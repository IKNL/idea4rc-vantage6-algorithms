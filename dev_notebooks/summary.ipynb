{
 "cells": [
  {
   "cell_type": "code",
   "execution_count": null,
   "metadata": {},
   "outputs": [],
   "source": [
    "from vantage6.algorithm.tools.mock_client import MockAlgorithmClient\n",
    "# Initialize the mock server. The datasets simulate the local datasets from\n",
    "# the node. In this case we have two parties having two different datasets:\n",
    "# a.csv and b.csv. The module name needs to be the name of your algorithm\n",
    "# package. This is the name you specified in `setup.py`, in our case that\n",
    "# would be v6-correlation-matrix-py.\n",
    "dataset_1 = {\"database\": \"/Users/frankmartin/Projects/Euracan/small_df.parquet\", \"db_type\": \"parquet\"}\n",
    "dataset_2 = {\"database\": \"/Users/frankmartin/Projects/Euracan/small_df.parquet\", \"db_type\": \"parquet\"}\n",
    "dataset_3 = {\"database\": \"/Users/frankmartin/Projects/Euracan/small_df.parquet\", \"db_type\": \"parquet\"}\n",
    "org_ids = ids = [0, 1, 2]\n",
    "\n",
    "client = MockAlgorithmClient(\n",
    "    datasets=[[dataset_1], [dataset_2], [dataset_3]],\n",
    "    organization_ids=org_ids,\n",
    "    module=\"v6-algorithm-wrapper-py\",\n",
    ")"
   ]
  },
  {
   "cell_type": "code",
   "execution_count": null,
   "metadata": {},
   "outputs": [],
   "source": [
    "organizations = client.organization.list()\n",
    "org_ids = ids = [organization[\"id\"] for organization in organizations]"
   ]
  },
  {
   "cell_type": "code",
   "execution_count": null,
   "metadata": {},
   "outputs": [],
   "source": [
    "# Note that we only supply the task to a single organization as we only want to execute\n",
    "# the central part of the algorithm once. The master task takes care of the\n",
    "# distribution to the other parties.\n",
    "task = client.task.create(\n",
    "    input_={\n",
    "        \"method\": \"summary\",\n",
    "        \"kwargs\": {\n",
    "            # \"columns\": [\"SURVIVAL_DAYS\"],\n",
    "        },\n",
    "    },\n",
    "    organizations=[org_ids[0]],\n",
    ")\n",
    "\n",
    "results = client.result.get(task.get(\"id\"))\n",
    "results"
   ]
  },
  {
   "cell_type": "code",
   "execution_count": null,
   "metadata": {},
   "outputs": [],
   "source": []
  }
 ],
 "metadata": {
  "kernelspec": {
   "display_name": "blueberry-algos",
   "language": "python",
   "name": "python3"
  },
  "language_info": {
   "codemirror_mode": {
    "name": "ipython",
    "version": 3
   },
   "file_extension": ".py",
   "mimetype": "text/x-python",
   "name": "python",
   "nbconvert_exporter": "python",
   "pygments_lexer": "ipython3",
   "version": "3.10.14"
  }
 },
 "nbformat": 4,
 "nbformat_minor": 2
}
