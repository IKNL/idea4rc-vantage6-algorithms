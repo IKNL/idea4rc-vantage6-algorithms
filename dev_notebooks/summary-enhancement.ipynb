{
 "cells": [
  {
   "cell_type": "code",
   "execution_count": 1,
   "metadata": {},
   "outputs": [],
   "source": [
    "from vantage6.algorithm.tools.mock_client import MockAlgorithmClient"
   ]
  },
  {
   "cell_type": "code",
   "execution_count": 2,
   "metadata": {},
   "outputs": [],
   "source": [
    "# Initialize the mock server. The datasets simulate the local datasets from\n",
    "# the node. In this case we have two parties having two different datasets:\n",
    "# data_org1.csv and data_org2.csv. The module name needs to be the name of your algorithm\n",
    "# package. This is the name you specified in `setup.py`, in our case that\n",
    "# would be v6-algorithm-wrapper-py.\n",
    "\n",
    "dataset_1 = {\"database\": \"/Users/vramella/Library/CloudStorage/OneDrive-BIOMERIS/PROGETTI-CLIENTI/RC-INT/KWF - Blueberry/Vantage6/Algoritmi-dev/summary-mod//data_org1.csv\", \"db_type\": \"csv\"}\n",
    "dataset_2 = {\"database\": \"/Users/vramella/Library/CloudStorage/OneDrive-BIOMERIS/PROGETTI-CLIENTI/RC-INT/KWF - Blueberry/Vantage6/Algoritmi-dev/summary-mod//data_org2.csv\", \"db_type\": \"csv\"}"
   ]
  },
  {
   "cell_type": "code",
   "execution_count": 3,
   "metadata": {},
   "outputs": [],
   "source": [
    "client = MockAlgorithmClient(\n",
    "    datasets=[[dataset_1], [dataset_2]],\n",
    "    module=\"v6-analytics\",\n",
    ")"
   ]
  },
  {
   "cell_type": "code",
   "execution_count": 4,
   "metadata": {},
   "outputs": [
    {
     "name": "stdout",
     "output_type": "stream",
     "text": [
      "[{'id': 0, 'name': 'mock-0', 'domain': 'mock-0.org', 'address1': 'mock', 'address2': 'mock', 'zipcode': 'mock', 'country': 'mock', 'public_key': 'mock', 'collaborations': '/api/collaboration?organization_id=0', 'users': '/api/user?organization_id=0', 'tasks': '/api/task?init_org_id=0', 'nodes': '/api/node?organization_id=0', 'runs': '/api/run?organization_id=0'}, {'id': 1, 'name': 'mock-1', 'domain': 'mock-1.org', 'address1': 'mock', 'address2': 'mock', 'zipcode': 'mock', 'country': 'mock', 'public_key': 'mock', 'collaborations': '/api/collaboration?organization_id=1', 'users': '/api/user?organization_id=1', 'tasks': '/api/task?init_org_id=1', 'nodes': '/api/node?organization_id=1', 'runs': '/api/run?organization_id=1'}]\n",
      "[0, 1]\n"
     ]
    }
   ],
   "source": [
    "organizations = client.organization.list()\n",
    "print(organizations)\n",
    "org_ids = ids = [organization[\"id\"] for organization in organizations]\n",
    "print(org_ids)"
   ]
  },
  {
   "cell_type": "code",
   "execution_count": 5,
   "metadata": {},
   "outputs": [],
   "source": [
    "columns_to_summarize = ['Sex', 'age', 'Height', 'Weight']"
   ]
  },
  {
   "cell_type": "code",
   "execution_count": 6,
   "metadata": {},
   "outputs": [
    {
     "name": "stdout",
     "output_type": "stream",
     "text": [
      "info > Defining input parameters\n",
      "info > Creating subtask for all organizations in the collaboration\n",
      "info > Checking if data complies to privacy settings\n",
      "info > Checking if data complies to privacy settings\n",
      "info > Waiting for results\n",
      "info > Mocking waiting for results\n",
      "info > Results obtained!\n",
      "info > Aggregating partial summaries\n",
      "info > n num cols: 3\n",
      "info > n means: 3\n",
      "info > debugger\n",
      "info > ['age', 'Height', 'Weight']\n",
      "info > 1\n",
      "info > {'columns': ['age', 'Height', 'Weight']}\n",
      "info > {'cohort_0': [35.51428571428571, 147.42857142857142, 69.37142857142857]}\n",
      "info > ********************************************************************************\n",
      "info > cohort_0\n",
      "info > [35.51428571428571, 147.42857142857142, 69.37142857142857]\n",
      "info > ********************************************************************************\n",
      "info > Checking if data complies to privacy settings\n"
     ]
    },
    {
     "name": "stderr",
     "output_type": "stream",
     "text": [
      "/Users/vramella/miniconda3/envs/dev-summary/lib/python3.10/site-packages/v6-summary-py/utils.py:142: SettingWithCopyWarning: \n",
      "A value is trying to be set on a copy of a slice from a DataFrame.\n",
      "Try using .loc[row_indexer,col_indexer] = value instead\n",
      "\n",
      "See the caveats in the documentation: https://pandas.pydata.org/pandas-docs/stable/user_guide/indexing.html#returning-a-view-versus-a-copy\n",
      "  df[col] = pd.to_numeric(df[col])\n"
     ]
    },
    {
     "name": "stdout",
     "output_type": "stream",
     "text": [
      "info > Calculating variance\n",
      "info > {'columns': ['age', 'Height', 'Weight']}\n",
      "info > {'cohort_0': [35.51428571428571, 147.42857142857142, 69.37142857142857]}\n",
      "info > ********************************************************************************\n",
      "info > cohort_0\n",
      "info > [35.51428571428571, 147.42857142857142, 69.37142857142857]\n",
      "info > ********************************************************************************\n",
      "info > Checking if data complies to privacy settings\n"
     ]
    },
    {
     "name": "stderr",
     "output_type": "stream",
     "text": [
      "/Users/vramella/miniconda3/envs/dev-summary/lib/python3.10/site-packages/v6-summary-py/utils.py:142: SettingWithCopyWarning: \n",
      "A value is trying to be set on a copy of a slice from a DataFrame.\n",
      "Try using .loc[row_indexer,col_indexer] = value instead\n",
      "\n",
      "See the caveats in the documentation: https://pandas.pydata.org/pandas-docs/stable/user_guide/indexing.html#returning-a-view-versus-a-copy\n",
      "  df[col] = pd.to_numeric(df[col])\n"
     ]
    },
    {
     "name": "stdout",
     "output_type": "stream",
     "text": [
      "info > Calculating variance\n",
      "info > Mocking waiting for results\n"
     ]
    },
    {
     "data": {
      "text/plain": [
       "{'cohort_0': {'numeric': {'age': {'count': 35.0,\n",
       "    'min': 13.0,\n",
       "    'max': 62.0,\n",
       "    'missing': 1.0,\n",
       "    'sum': 1243.0,\n",
       "    'median': [32.5, 35.0],\n",
       "    'q_25': [30.0, 32.0],\n",
       "    'q_75': [38.75, 39.0],\n",
       "    'mean': 35.51428571428571,\n",
       "    'std': 9.491083830043204},\n",
       "   'Height': {'count': 35.0,\n",
       "    'min': 98.0,\n",
       "    'max': 176.0,\n",
       "    'missing': 1.0,\n",
       "    'sum': 5160.0,\n",
       "    'median': [150.0, 155.0],\n",
       "    'q_25': [132.0, 134.0],\n",
       "    'q_75': [165.25, 166.0],\n",
       "    'mean': 147.42857142857142,\n",
       "    'std': 22.197357704817712},\n",
       "   'Weight': {'count': 35.0,\n",
       "    'min': 62.0,\n",
       "    'max': 87.0,\n",
       "    'missing': 1.0,\n",
       "    'sum': 2428.0,\n",
       "    'median': [69.5, 69.0],\n",
       "    'q_25': [66.25, 66.0],\n",
       "    'q_75': [71.75, 72.0],\n",
       "    'mean': 69.37142857142857,\n",
       "    'std': 4.777925431457824}},\n",
       "  'categorical': {'Sex': {'count': 36, 'missing': 0}},\n",
       "  'num_complete_rows_per_node': [18, 15],\n",
       "  'counts_unique_values': {'Sex': {'M': 22, 'F': 14}}}}"
      ]
     },
     "execution_count": 6,
     "metadata": {},
     "output_type": "execute_result"
    }
   ],
   "source": [
    "task = client.task.create(\n",
    "    input_ ={\n",
    "        \"method\": \"summary\",\n",
    "        \"kwargs\": {\n",
    "            \"columns\": columns_to_summarize,\n",
    "            \"organizations_to_include\": org_ids,\n",
    "        },\n",
    "    },\n",
    "    organizations=[org_ids[0]],\n",
    ")\n",
    "\n",
    "results = client.result.get(task.get(\"id\"))\n",
    "results"
   ]
  },
  {
   "cell_type": "code",
   "execution_count": 7,
   "metadata": {},
   "outputs": [
    {
     "name": "stdout",
     "output_type": "stream",
     "text": [
      "Package                  Version   Editable project location\n",
      "------------------------ --------- ----------------------------------------------------------------------------------------------------------------------------------------------------\n",
      "annotated-types          0.7.0\n",
      "appdirs                  1.4.4\n",
      "appnope                  0.1.4\n",
      "asttokens                3.0.0\n",
      "backcall                 0.2.0\n",
      "certifi                  2025.1.31\n",
      "cffi                     1.17.1\n",
      "charset-normalizer       3.4.1\n",
      "click                    8.1.3\n",
      "colorama                 0.4.6\n",
      "comm                     0.2.2\n",
      "contextlib2              21.6.0\n",
      "copier                   9.2.0\n",
      "cryptography             43.0.1\n",
      "debugpy                  1.8.11\n",
      "decorator                5.2.1\n",
      "docker                   7.1.0\n",
      "dunamai                  1.23.0\n",
      "et_xmlfile               2.0.0\n",
      "exceptiongroup           1.2.2\n",
      "executing                2.1.0\n",
      "formulaic                1.1.1\n",
      "funcy                    2.0\n",
      "idna                     3.10\n",
      "importlib_metadata       8.6.1\n",
      "interface-meta           1.3.0\n",
      "ipykernel                6.29.5\n",
      "ipython                  8.10.0\n",
      "isodate                  0.7.2\n",
      "jedi                     0.19.2\n",
      "Jinja2                   3.1.4\n",
      "jinja2-ansible-filters   1.3.2\n",
      "jupyter_client           8.6.3\n",
      "jupyter_core             5.7.2\n",
      "markdown-it-py           3.0.0\n",
      "MarkupSafe               3.0.2\n",
      "matplotlib-inline        0.1.7\n",
      "mdurl                    0.1.2\n",
      "nest_asyncio             1.6.0\n",
      "numpy                    2.2.3\n",
      "openpyxl                 3.1.5\n",
      "packaging                24.2\n",
      "pandas                   2.2.3\n",
      "parso                    0.8.4\n",
      "pathspec                 0.12.1\n",
      "patsy                    1.0.1\n",
      "pexpect                  4.9.0\n",
      "pickleshare              0.7.5\n",
      "pip                      25.0\n",
      "platformdirs             4.3.6\n",
      "plumbum                  1.9.0\n",
      "prompt_toolkit           3.0.50\n",
      "psutil                   5.9.0\n",
      "ptyprocess               0.7.0\n",
      "pure_eval                0.2.3\n",
      "pyarrow                  19.0.1\n",
      "pycparser                2.22\n",
      "pydantic                 2.10.6\n",
      "pydantic_core            2.27.2\n",
      "pyfiglet                 0.8.post1\n",
      "Pygments                 2.19.1\n",
      "PyJWT                    2.6.0\n",
      "pyparsing                3.2.1\n",
      "python-dateutil          2.8.2\n",
      "pytz                     2025.1\n",
      "PyYAML                   6.0.2\n",
      "pyzmq                    26.2.0\n",
      "qrcode                   7.3.1\n",
      "questionary              1.10.0\n",
      "rdflib                   7.1.3\n",
      "requests                 2.32.3\n",
      "rich                     13.5.2\n",
      "schema                   0.7.5\n",
      "scipy                    1.15.2\n",
      "setuptools               75.8.0\n",
      "six                      1.17.0\n",
      "SPARQLWrapper            2.0.0\n",
      "SQLAlchemy               1.4.46\n",
      "stack_data               0.6.3\n",
      "statsmodels              0.14.4\n",
      "tornado                  6.4.2\n",
      "traitlets                5.14.3\n",
      "typing_extensions        4.12.2\n",
      "tzdata                   2025.1\n",
      "urllib3                  2.3.0\n",
      "v6-algorithm-wrapper-py  1.0.0     /Users/vramella/Library/CloudStorage/OneDrive-BIOMERIS/PROGETTI-CLIENTI/RC-INT/KWF - Blueberry/BlueBerry-GitHub repo/sarcoma-algorithms/v6-analytics\n",
      "v6-kaplan-meier-py       1.0.0\n",
      "v6-summary-py            1.0.0\n",
      "vantage6                 4.7.1\n",
      "vantage6-algorithm-tools 4.9.1\n",
      "vantage6-client          4.7.1\n",
      "vantage6-common          4.9.1\n",
      "wcwidth                  0.2.13\n",
      "wheel                    0.45.1\n",
      "wrapt                    1.17.2\n",
      "zipp                     3.21.0\n"
     ]
    }
   ],
   "source": [
    "!pip list"
   ]
  }
 ],
 "metadata": {
  "kernelspec": {
   "display_name": "dev-summary",
   "language": "python",
   "name": "python3"
  },
  "language_info": {
   "codemirror_mode": {
    "name": "ipython",
    "version": 3
   },
   "file_extension": ".py",
   "mimetype": "text/x-python",
   "name": "python",
   "nbconvert_exporter": "python",
   "pygments_lexer": "ipython3",
   "version": "3.10.16"
  }
 },
 "nbformat": 4,
 "nbformat_minor": 2
}
