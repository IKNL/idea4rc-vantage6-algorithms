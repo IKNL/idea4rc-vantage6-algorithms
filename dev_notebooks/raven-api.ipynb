{
 "cells": [
  {
   "cell_type": "code",
   "execution_count": 10,
   "metadata": {},
   "outputs": [],
   "source": [
    "import requests"
   ]
  },
  {
   "cell_type": "markdown",
   "metadata": {},
   "source": [
    "# Vantage6 API for the RAVEN\n",
    "This notebook *should* contain all the code needed to interact with the vantage6 API \n",
    "from the RAVEN UI.\n",
    "\n",
    "This following section are included in the notebook:\n",
    "\n",
    "  1. Authenticate with the vantage6 server - This will change as we got a last minute  \n",
    "     request to use KeyCloak for authentication.\n",
    "  2. Creating prerequisites - This is **static** content which should already be at the   \n",
    "     vantage6 server. This is also not needed in case of the RAVEN UI, and you can skip  \n",
    "     this section as I already have created the required content.\n",
    "  3. Creating the cohorts from the patient IDs\n",
    "  4. Running other analytics\n",
    "\n",
    "...  "
   ]
  },
  {
   "cell_type": "markdown",
   "metadata": {},
   "source": [
    "## 1. Authenticate with the vantage6 server"
   ]
  },
  {
   "cell_type": "code",
   "execution_count": 1,
   "metadata": {},
   "outputs": [
    {
     "name": "stdout",
     "output_type": "stream",
     "text": [
      " Welcome to\n",
      "                  _                     __  \n",
      "                 | |                   / /  \n",
      "__   ____ _ _ __ | |_ __ _  __ _  ___ / /_  \n",
      "\\ \\ / / _` | '_ \\| __/ _` |/ _` |/ _ \\ '_ \\ \n",
      " \\ V / (_| | | | | || (_| | (_| |  __/ (_) |\n",
      "  \\_/ \\__,_|_| |_|\\__\\__,_|\\__, |\\___|\\___/ \n",
      "                            __/ |           \n",
      "                           |___/            \n",
      "\n",
      " --> Join us on Discord! https://discord.gg/rwRvwyK\n",
      " --> Docs: https://docs.vantage6.ai\n",
      " --> Blog: https://vantage6.ai\n",
      "------------------------------------------------------------\n",
      "Cite us!\n",
      "If you publish your findings obtained using vantage6, \n",
      "please cite the proper sources as mentioned in:\n",
      "https://vantage6.ai/vantage6/references\n",
      "------------------------------------------------------------\n",
      "opening browser for login\n"
     ]
    },
    {
     "name": "stderr",
     "output_type": "stream",
     "text": [
      "127.0.0.1 - - [02/Jul/2025 11:10:21] \"GET /callback?state=state&session_state=2b5d2eef-189b-4d2c-9a53-db08ba066c62&iss=https%3A%2F%2Fauth.vantage6.ai%3A8443%2Frealms%2Fvantage7&code=0200f4be-c121-4780-a612-3dddba52e994.2b5d2eef-189b-4d2c-9a53-db08ba066c62.40218515-930d-4f32-b4c8-4e650a2bfd46 HTTP/1.1\" 200 -\n"
     ]
    },
    {
     "name": "stdout",
     "output_type": "stream",
     "text": [
      " --> Succesfully authenticated\n",
      " --> Name: None (id=7)\n",
      " --> Organization: root (id=1)\n"
     ]
    }
   ],
   "source": [
    "# I authenticated using the vantage6 client library as since we are now using keycloak\n",
    "# obtain the token from the keycloak server is not trivial because of the callback\n",
    "# mechanism. I expect that you know how to authenticate with keycloak\n",
    "\n",
    "# NOTE: The refresh mechanism is not working as expected now that we moved to keycloak.\n",
    "# I've worked around this by setting the expiration time to 1 day. We need to fix this.\n",
    "\n",
    "# !pip install vantage6-client==5.0.0a22\n",
    "from vantage6.client import UserClient\n",
    "\n",
    "# Authentication will open a browser window to authenticate.\n",
    "client = UserClient(\n",
    "    \"https://orchestrator.idea.lst.tfo.upm.es:443/server\",\n",
    "    auth_url=\"https://auth.vantage6.ai:8443\",\n",
    "    auth_client=\"public_client\",\n",
    "    auth_realm=\"vantage7\",\n",
    "    log_level=\"INFO\"\n",
    ")\n",
    "client.authenticate()"
   ]
  },
  {
   "cell_type": "code",
   "execution_count": 2,
   "metadata": {},
   "outputs": [
    {
     "name": "stdout",
     "output_type": "stream",
     "text": [
      "Server version:  {'version': '5.0.0a22'}\n"
     ]
    }
   ],
   "source": [
    "headers = {\n",
    "    \"Authorization\": f\"Bearer {client._access_token}\"\n",
    "}\n",
    "\n",
    "# get the server info\n",
    "print(\"Server version: \", client.util.get_server_version())"
   ]
  },
  {
   "cell_type": "markdown",
   "metadata": {},
   "source": [
    "## 2. Creating prerequisites (Static content)"
   ]
  },
  {
   "cell_type": "code",
   "execution_count": 6,
   "metadata": {},
   "outputs": [],
   "source": [
    "# This is 'static' content which should already be at the vantage6 server. The vantage6\n",
    "# UI can be used to manage the 'static' content. It is static from the point of view of\n",
    "# RAVEN UI. All calls in this section use the vantage6 client library, as you don't\n",
    "# need to implement these.\n",
    "#\n",
    "# It is also possible to use the vantage6 UI for this purpose. It is temporary available\n",
    "# at https://idea4rc.kube.franky.codes or also at the UPM server when the routing has\n",
    "# been fixed.\n",
    "#\n",
    "# **YOU DO NOT NEED TO CREATE THESE, YOU CAN SKIP THIS SECTION.**"
   ]
  },
  {
   "cell_type": "markdown",
   "metadata": {},
   "source": [
    "### 2.1 Create the organizations"
   ]
  },
  {
   "cell_type": "code",
   "execution_count": 59,
   "metadata": {},
   "outputs": [],
   "source": [
    "# client.organization.create(\n",
    "#     name=\"Example Organization 1\",\n",
    "#     address1=\"123 Main St\",\n",
    "#     address2=\"Apt 1\",\n",
    "#     zipcode=\"1234AB\",\n",
    "#     country=\"NL\",\n",
    "#     domain=\"example-organization-1.com\",\n",
    "# )"
   ]
  },
  {
   "cell_type": "code",
   "execution_count": 60,
   "metadata": {},
   "outputs": [],
   "source": [
    "# client.organization.create(\n",
    "#     name=\"Example Organization 2\",\n",
    "#     address1=\"123 Main St\",\n",
    "#     address2=\"Apt 2\",\n",
    "#     zipcode=\"1234AB\",\n",
    "#     country=\"NL\",\n",
    "#     domain=\"example-organization-2.com\",\n",
    "# )"
   ]
  },
  {
   "cell_type": "code",
   "execution_count": 3,
   "metadata": {},
   "outputs": [
    {
     "data": {
      "text/plain": [
       "[{'id': 3, 'name': 'Example Organization 2'},\n",
       " {'id': 2, 'name': 'Example Organization 1'},\n",
       " {'id': 1, 'name': 'root'}]"
      ]
     },
     "execution_count": 3,
     "metadata": {},
     "output_type": "execute_result"
    }
   ],
   "source": [
    "# The organizations are created. All organization have an ID which can be used to\n",
    "# identify the organization at a later stage.\n",
    "client.organization.list(fields=('id', 'name'))"
   ]
  },
  {
   "cell_type": "markdown",
   "metadata": {},
   "source": [
    "### 2.2 Create the users"
   ]
  },
  {
   "cell_type": "code",
   "execution_count": 4,
   "metadata": {},
   "outputs": [
    {
     "data": {
      "text/plain": [
       "[{'id': 2, 'name': 'container'},\n",
       " {'id': 1, 'name': 'Root'},\n",
       " {'id': 5, 'name': 'Researcher'},\n",
       " {'id': 6, 'name': 'Organization Admin'},\n",
       " {'id': 4, 'name': 'Viewer'},\n",
       " {'id': 3, 'name': 'node'},\n",
       " {'id': 7, 'name': 'Collaboration Admin'}]"
      ]
     },
     "execution_count": 4,
     "metadata": {},
     "output_type": "execute_result"
    }
   ],
   "source": [
    "# Users have certain permissions. These permissions are given in the form of `rules`. To\n",
    "# make it easier to manage them, they are grouped in `roles`. We can use the ID of the\n",
    "# role to assign it to a user.\n",
    "client.role.list(fields=('id', 'name'))"
   ]
  },
  {
   "cell_type": "code",
   "execution_count": 63,
   "metadata": {},
   "outputs": [],
   "source": [
    "# client.user.create(\n",
    "#     username=\"user1\",\n",
    "#     password=\"Password123!\",\n",
    "#     email=\"user1@example-organization-1.com\",\n",
    "#     firstname=\"User 1\",\n",
    "#     lastname=\"User 1\",\n",
    "#     organization=2,\n",
    "#     roles=[6]\n",
    "# )"
   ]
  },
  {
   "cell_type": "code",
   "execution_count": 64,
   "metadata": {},
   "outputs": [],
   "source": [
    "# client.user.create(\n",
    "#     username=\"user2\",\n",
    "#     password=\"Password123!\",\n",
    "#     email=\"user2@example-organization-2.com\",\n",
    "#     firstname=\"User 2\",\n",
    "#     lastname=\"User 2\",\n",
    "#     organization=3,\n",
    "#     roles=[6]\n",
    "# )"
   ]
  },
  {
   "cell_type": "code",
   "execution_count": 65,
   "metadata": {},
   "outputs": [],
   "source": [
    "# client.user.create(\n",
    "#     username=\"raven\",\n",
    "#     password=\"Password123!\",\n",
    "#     email=\"raven@example-organization-2.com\",\n",
    "#     firstname=\"Raven\",\n",
    "#     lastname=\"Raven\",\n",
    "#     organization=2,\n",
    "#     roles=[7]\n",
    "# )"
   ]
  },
  {
   "cell_type": "code",
   "execution_count": 5,
   "metadata": {},
   "outputs": [
    {
     "data": {
      "text/plain": [
       "[{'id': 7, 'username': 'admin'},\n",
       " {'id': 9, 'username': 'user_2'},\n",
       " {'id': 11, 'username': 'alejandro'},\n",
       " {'id': 4, 'username': 'raven'},\n",
       " {'id': 8, 'username': 'user_1'}]"
      ]
     },
     "execution_count": 5,
     "metadata": {},
     "output_type": "execute_result"
    }
   ],
   "source": [
    "# TODO FM: Check that the users are both in KeyCloak and in the vantage6 server.\n",
    "client.user.list(fields=('id', 'username'))"
   ]
  },
  {
   "cell_type": "markdown",
   "metadata": {},
   "source": [
    "### 2.3 Create the collaboration"
   ]
  },
  {
   "cell_type": "code",
   "execution_count": 5,
   "metadata": {},
   "outputs": [],
   "source": [
    "# client.collaboration.create(\n",
    "#     name=\"Example Collaboration 1\",\n",
    "#     organizations=[2, 3]\n",
    "# )"
   ]
  },
  {
   "cell_type": "code",
   "execution_count": 6,
   "metadata": {},
   "outputs": [
    {
     "data": {
      "text/plain": [
       "[{'id': 2, 'name': 'Testing'}, {'id': 1, 'name': 'Example Collaboration 1'}]"
      ]
     },
     "execution_count": 6,
     "metadata": {},
     "output_type": "execute_result"
    }
   ],
   "source": [
    "# In vantage6 multiple collaborations can be present. A collaboration is a group of\n",
    "# organizations that can collaborate on a certain task. In IDEA4RC we create one\n",
    "# collaboration for all CoE and Research Center organizations. We also have created a\n",
    "# testing collaboration for now. We need the collaboration ID to create a new session\n",
    "# and also when we want to create a new task.\n",
    "client.collaboration.list(fields=('id', 'name'), scope=\"global\")"
   ]
  },
  {
   "cell_type": "markdown",
   "metadata": {},
   "source": [
    "### 2.4 Create the nodes"
   ]
  },
  {
   "cell_type": "code",
   "execution_count": 9,
   "metadata": {},
   "outputs": [],
   "source": [
    "# client.node.create(\n",
    "#     collaboration=1,\n",
    "#     organization=2,\n",
    "#     name=\"Organization 2 Node 1\",\n",
    "# )"
   ]
  },
  {
   "cell_type": "code",
   "execution_count": 10,
   "metadata": {},
   "outputs": [],
   "source": [
    "# client.node.create(\n",
    "#     collaboration=1,\n",
    "#     organization=3,\n",
    "#     name=\"Organization 3 Node 1\",\n",
    "# )"
   ]
  },
  {
   "cell_type": "code",
   "execution_count": 7,
   "metadata": {},
   "outputs": [
    {
     "data": {
      "text/plain": [
       "[{'id': 10, 'name': 'Testing-root-node', 'status': 'offline'},\n",
       " {'id': 6, 'name': 'Organization 3 Node 1', 'status': 'offline'},\n",
       " {'id': 5, 'name': 'Organization 2 Node 1', 'status': 'offline'}]"
      ]
     },
     "execution_count": 7,
     "metadata": {},
     "output_type": "execute_result"
    }
   ],
   "source": [
    "client.node.list(fields=(\"id\", \"name\", \"status\"))"
   ]
  },
  {
   "cell_type": "markdown",
   "metadata": {},
   "source": [
    "## 3. New Workspace\n",
    "*New study in vantage6*"
   ]
  },
  {
   "cell_type": "code",
   "execution_count": 8,
   "metadata": {},
   "outputs": [],
   "source": [
    "# Lets set the collaboration ID now to the testing collaboration.\n",
    "COLLABORATION_ID = 2"
   ]
  },
  {
   "cell_type": "code",
   "execution_count": 11,
   "metadata": {},
   "outputs": [
    {
     "data": {
      "text/plain": [
       "{'data': [{'studies': '/server/study?organization_id=1',\n",
       "   'tasks': '/server/task?init_org_id=1',\n",
       "   'collaborations': '/server/collaboration?organization_id=1',\n",
       "   'zipcode': None,\n",
       "   'country': None,\n",
       "   'id': 1,\n",
       "   'name': 'root',\n",
       "   'users': '/server/user?organization_id=1',\n",
       "   'nodes': '/server/node?organization_id=1',\n",
       "   'domain': None,\n",
       "   'public_key': '',\n",
       "   'runs': '/server/run?organization_id=1',\n",
       "   'address1': None,\n",
       "   'address2': None}],\n",
       " 'links': {'first': '/server/organization?collaboration_id=2&page=1',\n",
       "  'self': '/server/organization?collaboration_id=2&page=1',\n",
       "  'last': '/server/organization?collaboration_id=2&page=1'}}"
      ]
     },
     "execution_count": 11,
     "metadata": {},
     "output_type": "execute_result"
    }
   ],
   "source": [
    "# Normally we expect all organizations to be part of the Collaboration. However, or\n",
    "# test collaboration does not. So we collect the organizations that are part of the\n",
    "# collaboration and add them to the study.\n",
    "response = requests.get(\n",
    "    f\"https://orchestrator.idea.lst.tfo.upm.es/server/organization?collaboration_id={COLLABORATION_ID}\",\n",
    "    headers=headers\n",
    ")\n",
    "response.json()"
   ]
  },
  {
   "cell_type": "code",
   "execution_count": 12,
   "metadata": {},
   "outputs": [
    {
     "data": {
      "text/plain": [
       "[1]"
      ]
     },
     "execution_count": 12,
     "metadata": {},
     "output_type": "execute_result"
    }
   ],
   "source": [
    "ORGANIZATION_IDS = [org[\"id\"] for org in response.json()[\"data\"]]\n",
    "ORGANIZATION_IDS"
   ]
  },
  {
   "cell_type": "code",
   "execution_count": 50,
   "metadata": {},
   "outputs": [
    {
     "data": {
      "text/plain": [
       "{'id': 11,\n",
       " 'name': 'Example Study 11',\n",
       " 'organizations': [{'address2': None,\n",
       "   'collaborations': '/server/collaboration?organization_id=1',\n",
       "   'runs': '/server/run?organization_id=1',\n",
       "   'zipcode': None,\n",
       "   'country': None,\n",
       "   'name': 'root',\n",
       "   'nodes': '/server/node?organization_id=1',\n",
       "   'domain': None,\n",
       "   'tasks': '/server/task?init_org_id=1',\n",
       "   'studies': '/server/study?organization_id=1',\n",
       "   'id': 1,\n",
       "   'public_key': '',\n",
       "   'address1': None,\n",
       "   'users': '/server/user?organization_id=1'}],\n",
       " 'tasks': '/server/task?study_id=11',\n",
       " 'collaboration': {'id': 2,\n",
       "  'link': '/server/collaboration/2',\n",
       "  'methods': ['PATCH', 'GET', 'DELETE']}}"
      ]
     },
     "execution_count": 50,
     "metadata": {},
     "output_type": "execute_result"
    }
   ],
   "source": [
    "# To create a new study we need the organizations ids (the internal ids in vantage6)\n",
    "# that are included in this workspace. The name of the study needs to be unique.\n",
    "# TODO: we need to decide on the unique name of the study, this could be the name of\n",
    "# the workspace.\n",
    "response = requests.post(\n",
    "    \"https://orchestrator.idea.lst.tfo.upm.es/server/study\",\n",
    "    headers=headers,\n",
    "    json={\n",
    "        # The collaboration id is the vantage6 id of the collaboration. This is\n",
    "        # is the same for all workspaces. I used 1 now, but this can change when we\n",
    "        # are still developing the platform.\n",
    "        \"collaboration_id\": COLLABORATION_ID,\n",
    "        # The name of the study needs to be unique. I guess the name of the workspace\n",
    "        # is also unique, so we can use that.\n",
    "        \"name\": \"Example Study 11\",\n",
    "        # The organization ids are the internal ids of the organizations in vantage6.\n",
    "        \"organization_ids\": ORGANIZATION_IDS,\n",
    "    }\n",
    ")\n",
    "response.json()\n",
    "# In the case that:\n",
    "#\n",
    "# - The name is not unique\n",
    "# - The collaboration id is not valid (non existing)\n",
    "# - The organization ids are not valid (non existing)\n",
    "#\n",
    "# The API will return a 4xx error with a message. It will be of the following format:\n",
    "# {\n",
    "#     \"msg\": \"Error message\",\n",
    "# }"
   ]
  },
  {
   "cell_type": "code",
   "execution_count": 51,
   "metadata": {},
   "outputs": [],
   "source": [
    "# Now that we have our study ID lets save it so we can use it later.\n",
    "STUDY_ID = response.json()[\"id\"]"
   ]
  },
  {
   "cell_type": "code",
   "execution_count": 52,
   "metadata": {},
   "outputs": [
    {
     "data": {
      "text/plain": [
       "[{'organizations': '/server/organization?study_id=9',\n",
       "  'name': 'Example Study 9',\n",
       "  'tasks': '/server/task?study_id=9',\n",
       "  'id': 9,\n",
       "  'collaboration': {'id': 1,\n",
       "   'link': '/server/collaboration/1',\n",
       "   'methods': ['GET', 'PATCH', 'DELETE']}},\n",
       " {'organizations': '/server/organization?study_id=2',\n",
       "  'name': 'Example Study 2',\n",
       "  'tasks': '/server/task?study_id=2',\n",
       "  'id': 2,\n",
       "  'collaboration': {'id': 1,\n",
       "   'link': '/server/collaboration/1',\n",
       "   'methods': ['GET', 'PATCH', 'DELETE']}},\n",
       " {'organizations': '/server/organization?study_id=3',\n",
       "  'name': 'Example Study 3',\n",
       "  'tasks': '/server/task?study_id=3',\n",
       "  'id': 3,\n",
       "  'collaboration': {'id': 1,\n",
       "   'link': '/server/collaboration/1',\n",
       "   'methods': ['GET', 'PATCH', 'DELETE']}},\n",
       " {'organizations': '/server/organization?study_id=11',\n",
       "  'name': 'Example Study 11',\n",
       "  'tasks': '/server/task?study_id=11',\n",
       "  'id': 11,\n",
       "  'collaboration': {'id': 2,\n",
       "   'link': '/server/collaboration/2',\n",
       "   'methods': ['GET', 'PATCH', 'DELETE']}},\n",
       " {'organizations': '/server/organization?study_id=10',\n",
       "  'name': 'Example Study 10',\n",
       "  'tasks': '/server/task?study_id=10',\n",
       "  'id': 10,\n",
       "  'collaboration': {'id': 2,\n",
       "   'link': '/server/collaboration/2',\n",
       "   'methods': ['GET', 'PATCH', 'DELETE']}},\n",
       " {'organizations': '/server/organization?study_id=7',\n",
       "  'name': 'Example Study 7',\n",
       "  'tasks': '/server/task?study_id=7',\n",
       "  'id': 7,\n",
       "  'collaboration': {'id': 1,\n",
       "   'link': '/server/collaboration/1',\n",
       "   'methods': ['GET', 'PATCH', 'DELETE']}},\n",
       " {'organizations': '/server/organization?study_id=8',\n",
       "  'name': 'Example Study 8',\n",
       "  'tasks': '/server/task?study_id=8',\n",
       "  'id': 8,\n",
       "  'collaboration': {'id': 1,\n",
       "   'link': '/server/collaboration/1',\n",
       "   'methods': ['GET', 'PATCH', 'DELETE']}},\n",
       " {'organizations': '/server/organization?study_id=6',\n",
       "  'name': 'Example Study 6',\n",
       "  'tasks': '/server/task?study_id=6',\n",
       "  'id': 6,\n",
       "  'collaboration': {'id': 1,\n",
       "   'link': '/server/collaboration/1',\n",
       "   'methods': ['GET', 'PATCH', 'DELETE']}},\n",
       " {'organizations': '/server/organization?study_id=5',\n",
       "  'name': 'Example Study 5',\n",
       "  'tasks': '/server/task?study_id=5',\n",
       "  'id': 5,\n",
       "  'collaboration': {'id': 1,\n",
       "   'link': '/server/collaboration/1',\n",
       "   'methods': ['GET', 'PATCH', 'DELETE']}},\n",
       " {'organizations': '/server/organization?study_id=4',\n",
       "  'name': 'Example Study 4',\n",
       "  'tasks': '/server/task?study_id=4',\n",
       "  'id': 4,\n",
       "  'collaboration': {'id': 1,\n",
       "   'link': '/server/collaboration/1',\n",
       "   'methods': ['GET', 'PATCH', 'DELETE']}}]"
      ]
     },
     "execution_count": 52,
     "metadata": {},
     "output_type": "execute_result"
    }
   ],
   "source": [
    "# You can always view all studies. This endpoint is not necessarily needed for the\n",
    "# RAVEN UI but I thought it would be useful to have it here.\n",
    "response = requests.get(\"https://orchestrator.idea.lst.tfo.upm.es/server/study\", headers=headers)\n",
    "response.json()[\"data\"]"
   ]
  },
  {
   "cell_type": "code",
   "execution_count": null,
   "metadata": {},
   "outputs": [
    {
     "data": {
      "text/plain": [
       "{'data': [{'address2': None,\n",
       "   'collaborations': '/server/collaboration?organization_id=1',\n",
       "   'runs': '/server/run?organization_id=1',\n",
       "   'zipcode': None,\n",
       "   'country': None,\n",
       "   'name': 'root',\n",
       "   'nodes': '/server/node?organization_id=1',\n",
       "   'domain': None,\n",
       "   'tasks': '/server/task?init_org_id=1',\n",
       "   'studies': '/server/study?organization_id=1',\n",
       "   'id': 1,\n",
       "   'public_key': '',\n",
       "   'address1': None,\n",
       "   'users': '/server/user?organization_id=1'}],\n",
       " 'links': {'first': '/server/organization?study_id=11&page=1',\n",
       "  'self': '/server/organization?study_id=11&page=1',\n",
       "  'last': '/server/organization?study_id=11&page=1'}}"
      ]
     },
     "execution_count": 53,
     "metadata": {},
     "output_type": "execute_result"
    }
   ],
   "source": [
    "# You can also view the organizations that are part of a study. This endpoint is not\n",
    "# necessarily needed for the RAVEN UI but I thought it would be useful to have it here.\n",
    "response = requests.get(\n",
    "    f\"https://orchestrator.idea.lst.tfo.upm.es/server/organization?study_id={STUDY_ID}\",\n",
    "    headers=headers\n",
    ")\n",
    "response.json()"
   ]
  },
  {
   "cell_type": "markdown",
   "metadata": {},
   "source": [
    "## 4. New Analysis\n",
    "*New session in vantage6*"
   ]
  },
  {
   "cell_type": "code",
   "execution_count": 54,
   "metadata": {},
   "outputs": [
    {
     "data": {
      "text/plain": [
       "{'name': 'Example Session 8',\n",
       " 'study': {'id': 11,\n",
       "  'link': '/server/study/11',\n",
       "  'methods': ['PATCH', 'GET', 'DELETE']},\n",
       " 'dataframes': '/server/session/8/dataframe',\n",
       " 'collaboration': {'id': 2,\n",
       "  'link': '/server/collaboration/2',\n",
       "  'methods': ['PATCH', 'GET', 'DELETE']},\n",
       " 'owner': {'id': 7,\n",
       "  'link': '/server/user/7',\n",
       "  'methods': ['PATCH', 'GET', 'DELETE']},\n",
       " 'last_used_at': '2025-07-01T06:36:52.874247',\n",
       " 'scope': 'col',\n",
       " 'tasks': '/server/task?session_id=8',\n",
       " 'ready': True,\n",
       " 'created_at': '2025-07-01T06:36:52.874168',\n",
       " 'id': 8}"
      ]
     },
     "execution_count": 54,
     "metadata": {},
     "output_type": "execute_result"
    }
   ],
   "source": [
    "# When a new analysis is created in RAVEN we need to create a new session in vantage6.\n",
    "# A session is a file space on the data stations in which we can store dataframes (an\n",
    "# extraction of the data from the OMOP database). We need the study id which should be\n",
    "# stored in the workspace in order to create the session.\n",
    "response = requests.post(\n",
    "    \"https://orchestrator.idea.lst.tfo.upm.es/server/session\",\n",
    "    headers=headers,\n",
    "    json={\n",
    "        # The collaboration id is the vantage6 id of the collaboration. This is\n",
    "        # is the same for all workspaces. I used 1 now, but this can change when we\n",
    "        # are still developing the platform.\n",
    "        \"collaboration_id\": COLLABORATION_ID,\n",
    "        # The name of the session needs to be unique within the collaboration, so in the\n",
    "        # case of IDEA4RC this needs to always be unique. I would use the analysis ID to\n",
    "        # create a unique name.\n",
    "        \"name\": \"Example Session 8\",\n",
    "        # The study id should be linked to the workspace.\n",
    "        \"study_id\": STUDY_ID,\n",
    "        # The scope is the scope of the session. In IDEA4RC we use the collaboration\n",
    "        # scope. This means that others users can use the same session.\n",
    "        \"scope\": \"collaboration\"\n",
    "    }\n",
    ")\n",
    "response.json()\n",
    "# In the case that:\n",
    "#\n",
    "# - The name is not unique\n",
    "# - The study id is not valid (non existing)\n",
    "# - The scope is not valid (only 'collaboration' should be used)\n",
    "# - The collaboration id is not valid (non existing)\n",
    "#\n",
    "# The API will return a 4xx error with a message. It will be of the following format:\n",
    "# {\n",
    "#     \"msg\": \"Error message\",\n",
    "# }"
   ]
  },
  {
   "cell_type": "code",
   "execution_count": 56,
   "metadata": {},
   "outputs": [
    {
     "data": {
      "text/plain": [
       "8"
      ]
     },
     "execution_count": 56,
     "metadata": {},
     "output_type": "execute_result"
    }
   ],
   "source": [
    "SESSION_ID = response.json()[\"id\"]\n",
    "SESSION_ID"
   ]
  },
  {
   "cell_type": "markdown",
   "metadata": {},
   "source": [
    "## 5. New cohort\n",
    "*Create a new dataframe in vantage6*"
   ]
  },
  {
   "cell_type": "code",
   "execution_count": 68,
   "metadata": {},
   "outputs": [],
   "source": [
    "# When a new cohort is created vantage6 needs to extract the data from the OMOP database\n",
    "# and store it in the session as a dataframe. This is done by executing a vantage6\n",
    "# extraction task.\n",
    "\n",
    "#\n",
    "# Static content\n",
    "#\n",
    "image = \"https://harbor2.vantage6.ai/idea4rc/sessions:latest\"\n",
    "label = \"omop\"\n",
    "\n",
    "#\n",
    "# Dynamic content\n",
    "#\n",
    "study_id = STUDY_ID # related to the workspace\n",
    "session_id = SESSION_ID # related to the analysis\n",
    "\n",
    "# The name of the cohort, this should be unique within a session. You can probably use\n",
    "# the same name that you use in the RAVEN UI. Alternatively, we can also not send it.\n",
    "# In that case the name will be generated by vantage6.\n",
    "name = \"Cohort_name_2\"\n",
    "\n",
    "# Each `image` can have multiple `methods`. We need to use a different method for\n",
    "# sarcoma and head and neck as we are extracting different features.\n",
    "method = \"create_cohort\"\n",
    "\n",
    "# The input for the task is the patient ids and which features we want to extract.\n",
    "arguments = {\n",
    "    \"patient_ids\": [1, 2, 3, 4, 5, 6, 7, 8, 9, 10], # These should be coming from the cohort builder in RAVEN\n",
    "    \"features\": \"sarcoma\" # or \"head_neck\" in case of head and neck\n",
    "}"
   ]
  },
  {
   "cell_type": "code",
   "execution_count": 61,
   "metadata": {},
   "outputs": [
    {
     "data": {
      "text/plain": [
       "{'label': 'omop',\n",
       " 'name': 'Cohort_name_2',\n",
       " 'task': {'method': 'create_cohort',\n",
       "  'image': 'https://harbor2.vantage6.ai/idea4rc/sessions:latest',\n",
       "  'organizations': [{'id': 1,\n",
       "    'input': 'eyJwYXRpZW50X2lkcyI6IFsxLCAyLCAzLCA0LCA1LCA2LCA3LCA4LCA5LCAxMF0sICJmZWF0dXJlcyI6ICJzYXJjb21hIn0='}]}}"
      ]
     },
     "execution_count": 61,
     "metadata": {},
     "output_type": "execute_result"
    }
   ],
   "source": [
    "# before we can create a task we need to prepare task instructions. In vantage6 we can\n",
    "# (but we dont in IDEA4RC) use end-to-end encryption, therefore we need to store the\n",
    "# input for each organization individually.\n",
    "import json\n",
    "import base64\n",
    "payload = {\n",
    "    \"label\": label,\n",
    "    \"name\": name, # optional, v6 will generate a name if not provided\n",
    "    \"task\": {\n",
    "        \"method\": method,\n",
    "        \"image\": image,\n",
    "        # In vantage6 we can (but we dont in IDEA4RC) use end-to-end encryption,\n",
    "        # therefore we need to store the input for each organization individually.\n",
    "        \"organizations\": [\n",
    "            {\n",
    "                \"id\": id_,\n",
    "                \"input\": base64.b64encode(\n",
    "                    json.dumps(arguments).encode(\"UTF-8\")\n",
    "                ).decode(\"UTF-8\")\n",
    "            }\n",
    "            # We always create a cohort for all organizations in the study. Even though\n",
    "            # in a later stage we might send computation tasks to a subset of the\n",
    "            # organizations.\n",
    "            for id_ in ORGANIZATION_IDS\n",
    "        ]\n",
    "    }\n",
    "}\n",
    "payload"
   ]
  },
  {
   "cell_type": "code",
   "execution_count": 62,
   "metadata": {},
   "outputs": [
    {
     "data": {
      "text/plain": [
       "{'name': 'Cohort_name_2',\n",
       " 'ready': True,\n",
       " 'session': {'id': 8,\n",
       "  'link': '/server/session/8',\n",
       "  'methods': ['PATCH', 'DELETE', 'GET']},\n",
       " 'tasks': '/server/task?dataframe_id=6',\n",
       " 'columns': [],\n",
       " 'id': 6,\n",
       " 'db_label': 'omop',\n",
       " 'last_session_task': {'created_at': '2025-07-01T10:17:26.402115',\n",
       "  'job_id': 6,\n",
       "  'depends_on': [],\n",
       "  'finished_at': None,\n",
       "  'name': 'Session initialization: Example Session 8',\n",
       "  'study': {'id': 11,\n",
       "   'link': '/server/study/11',\n",
       "   'methods': ['PATCH', 'DELETE', 'GET']},\n",
       "  'method': 'create_cohort',\n",
       "  'init_org': {'id': 1,\n",
       "   'link': '/server/organization/1',\n",
       "   'methods': ['PATCH', 'DELETE', 'GET']},\n",
       "  'status': 'awaiting',\n",
       "  'id': 6,\n",
       "  'dataframe': {'db_label': 'omop', 'name': 'Cohort_name_2', 'id': 6},\n",
       "  'children': '/server/task?parent_id=6',\n",
       "  'collaboration': {'id': 2,\n",
       "   'link': '/server/collaboration/2',\n",
       "   'methods': ['PATCH', 'DELETE', 'GET']},\n",
       "  'databases': [{'label': 'omop',\n",
       "    'type': 'source',\n",
       "    'dataframe_id': None,\n",
       "    'dataframe_name': None,\n",
       "    'position': 0}],\n",
       "  'parent': None,\n",
       "  'session': {'id': 8,\n",
       "   'link': '/server/session/8',\n",
       "   'methods': ['PATCH', 'DELETE', 'GET']},\n",
       "  'image': 'https://harbor2.vantage6.ai/idea4rc/sessions:latest',\n",
       "  'init_user': {'id': 7,\n",
       "   'link': '/server/user/7',\n",
       "   'methods': ['PATCH', 'DELETE', 'GET']},\n",
       "  'description': 'Data extraction step for session Example Session 8 (8).This session is in the Testing collaboration. Data extraction is done on the omop database, and the dataframe name will be Cohort_name_2.',\n",
       "  'required_by': [],\n",
       "  'runs': '/server/run?task_id=6',\n",
       "  'results': '/server/result?task_id=6',\n",
       "  'algorithm_store': None}}"
      ]
     },
     "execution_count": 62,
     "metadata": {},
     "output_type": "execute_result"
    }
   ],
   "source": [
    "# Create a vantage6 task to extract the data from the omop data source and store it\n",
    "# into a dataframe.\n",
    "response = requests.post(\n",
    "    f\"https://orchestrator.idea.lst.tfo.upm.es/server/session/{SESSION_ID}/dataframe\",\n",
    "    headers=headers,\n",
    "    json=payload\n",
    ")\n",
    "response.json()"
   ]
  },
  {
   "cell_type": "code",
   "execution_count": 63,
   "metadata": {},
   "outputs": [],
   "source": [
    "# TODO:\n",
    "#   - Poll for the dataframe status"
   ]
  },
  {
   "cell_type": "markdown",
   "metadata": {},
   "source": [
    "## 6. Summary statistics (TODO)"
   ]
  },
  {
   "cell_type": "code",
   "execution_count": 64,
   "metadata": {},
   "outputs": [],
   "source": [
    "# Before we can display the summary statistics we need to calculate them. This is done\n",
    "# through a vantage6 algorithm. We first need to be sure the dataframe is ready to be\n",
    "# used. Then we can execute the algorithm and await the results to be displayed.\n",
    "\n",
    "# TODO:\n",
    "# TODO:\n",
    "#   - Compute summary statistics on the dataframe\n",
    "#   - Poll for the summary statistics results"
   ]
  },
  {
   "cell_type": "code",
   "execution_count": 69,
   "metadata": {},
   "outputs": [],
   "source": [
    "# image = \"https://harbor2.vantage6.ai/idea4rc/analytics:latest\"\n",
    "# dataframe_id = None"
   ]
  },
  {
   "cell_type": "markdown",
   "metadata": {},
   "source": [
    "# 7. Collect algorithm metadata\n",
    "*Collect input arguments and their types*"
   ]
  },
  {
   "cell_type": "code",
   "execution_count": null,
   "metadata": {},
   "outputs": [
    {
     "data": {
      "text/plain": [
       "{'data': [{'developer_id': 3,\n",
       "   'name': 'v6-idea4rc-analytics',\n",
       "   'invalidated_at': None,\n",
       "   'reviews': '/store/review?algorithm_id=3',\n",
       "   'approved_at': '2025-07-01T08:59:34.075847',\n",
       "   'submission_comments': 'Updated the display names',\n",
       "   'id': 3,\n",
       "   'status': 'approved',\n",
       "   'partitioning': 'horizontal',\n",
       "   'image': 'harbor2.vantage6.ai/idea4rc/analytics',\n",
       "   'digest': 'sha256:dd35b7dcc89a9b25ffee86e9ca67c055b935f65af756427bfb2509cb231a41d8',\n",
       "   'documentation_url': 'https://github.com/idea4rc/v6-analytics',\n",
       "   'description': 'This algorithm computes summary statistics for a set of cohorts',\n",
       "   'vantage6_version': '5.0.0a22',\n",
       "   'functions': [{'name': 'summary',\n",
       "     'id': 4,\n",
       "     'display_name': 'Summary statistics',\n",
       "     'ui_visualizations': [],\n",
       "     'arguments': [{'conditional_value': None,\n",
       "       'conditional_operator': None,\n",
       "       'is_frontend_only': False,\n",
       "       'name': 'columns',\n",
       "       'id': 10,\n",
       "       'display_name': 'Columns',\n",
       "       'default_value': '',\n",
       "       'conditional_on_id': None,\n",
       "       'type': 'column_list',\n",
       "       'description': 'List of columns to compute the summary statistics for',\n",
       "       'has_default_value': False},\n",
       "      {'conditional_value': None,\n",
       "       'conditional_operator': None,\n",
       "       'is_frontend_only': False,\n",
       "       'name': 'organizations_to_include',\n",
       "       'id': 11,\n",
       "       'display_name': 'Organizations to include',\n",
       "       'default_value': None,\n",
       "       'conditional_on_id': None,\n",
       "       'type': 'organization_list',\n",
       "       'description': 'The organizations to include in the task. If not given, all organizations in the collaboration are included.',\n",
       "       'has_default_value': True}],\n",
       "     'description': 'Compute summary statistics for a set of cohorts',\n",
       "     'step_type': 'central_compute',\n",
       "     'databases': [{'multiple': True,\n",
       "       'description': 'The cohorts to compute the summary statistics for',\n",
       "       'name': 'cohorts',\n",
       "       'id': 4}],\n",
       "     'standalone': True},\n",
       "    {'name': 'crosstab',\n",
       "     'id': 5,\n",
       "     'display_name': 'Crosstab statistics',\n",
       "     'ui_visualizations': [],\n",
       "     'arguments': [{'conditional_value': None,\n",
       "       'conditional_operator': None,\n",
       "       'is_frontend_only': False,\n",
       "       'name': 'results_col',\n",
       "       'id': 12,\n",
       "       'display_name': 'Results column',\n",
       "       'default_value': '',\n",
       "       'conditional_on_id': None,\n",
       "       'type': 'column_list',\n",
       "       'description': 'The column to compute the crosstab statistics for',\n",
       "       'has_default_value': False},\n",
       "      {'conditional_value': None,\n",
       "       'conditional_operator': None,\n",
       "       'is_frontend_only': False,\n",
       "       'name': 'group_cols',\n",
       "       'id': 13,\n",
       "       'display_name': 'Group columns',\n",
       "       'default_value': '',\n",
       "       'conditional_on_id': None,\n",
       "       'type': 'column_list',\n",
       "       'description': 'The columns to group the data by',\n",
       "       'has_default_value': False},\n",
       "      {'conditional_value': None,\n",
       "       'conditional_operator': None,\n",
       "       'is_frontend_only': False,\n",
       "       'name': 'organizations_to_include',\n",
       "       'id': 14,\n",
       "       'display_name': 'Organizations to include',\n",
       "       'default_value': None,\n",
       "       'conditional_on_id': None,\n",
       "       'type': 'organization_list',\n",
       "       'description': 'The organizations to include in the task. If not given, all organizations in the collaboration are included.',\n",
       "       'has_default_value': True},\n",
       "      {'conditional_value': None,\n",
       "       'conditional_operator': None,\n",
       "       'is_frontend_only': False,\n",
       "       'name': 'include_chi2',\n",
       "       'id': 15,\n",
       "       'display_name': 'Include Chi2 statistic',\n",
       "       'default_value': 'true',\n",
       "       'conditional_on_id': None,\n",
       "       'type': 'boolean',\n",
       "       'description': 'Whether to include the results of a chi-squared statistic test in the results or not. By default, it is included.',\n",
       "       'has_default_value': True},\n",
       "      {'conditional_value': None,\n",
       "       'conditional_operator': None,\n",
       "       'is_frontend_only': False,\n",
       "       'name': 'include_totals',\n",
       "       'id': 16,\n",
       "       'display_name': 'Include totals',\n",
       "       'default_value': 'true',\n",
       "       'conditional_on_id': None,\n",
       "       'type': 'boolean',\n",
       "       'description': 'Whether to include the sums of the rows and columns or not. By default, they are included.',\n",
       "       'has_default_value': True}],\n",
       "     'description': 'Compute crosstab statistics for a set of cohorts',\n",
       "     'step_type': 'central_compute',\n",
       "     'databases': [{'multiple': True,\n",
       "       'description': 'The cohorts to compute the crosstab statistics for',\n",
       "       'name': 'cohorts',\n",
       "       'id': 5}],\n",
       "     'standalone': True}],\n",
       "   'code_url': 'https://github.com/idea4rc/v6-analytics',\n",
       "   'submitted_at': '2025-07-01T08:56:29.213491'},\n",
       "  {'developer_id': 1,\n",
       "   'name': 'v6-idea4rc-sessions',\n",
       "   'invalidated_at': None,\n",
       "   'reviews': '/store/review?algorithm_id=1',\n",
       "   'approved_at': '2025-06-25T18:06:06.060991',\n",
       "   'submission_comments': '',\n",
       "   'id': 1,\n",
       "   'status': 'approved',\n",
       "   'partitioning': 'horizontal',\n",
       "   'image': 'harbor2.vantage6.ai/idea4rc/sessions',\n",
       "   'digest': 'sha256:6bc8186d695ef585381d7a1d0e1d727725055b9c02637601a5644ae277bc7fa5',\n",
       "   'documentation_url': 'https://github.com/idea4rc/v6-sessions',\n",
       "   'description': 'This algorithm extracts a cohort from the OMOP database.',\n",
       "   'vantage6_version': '5.0.0a19',\n",
       "   'functions': [{'name': 'create_cohort',\n",
       "     'id': 1,\n",
       "     'display_name': 'Create cohort',\n",
       "     'ui_visualizations': [],\n",
       "     'arguments': [{'conditional_value': None,\n",
       "       'conditional_operator': None,\n",
       "       'is_frontend_only': False,\n",
       "       'name': 'patient_ids',\n",
       "       'id': 1,\n",
       "       'display_name': 'Patient IDs',\n",
       "       'default_value': '',\n",
       "       'conditional_on_id': None,\n",
       "       'type': 'integer_list',\n",
       "       'description': 'List of patient IDs to extract',\n",
       "       'has_default_value': False},\n",
       "      {'conditional_value': None,\n",
       "       'conditional_operator': None,\n",
       "       'is_frontend_only': False,\n",
       "       'name': 'features',\n",
       "       'id': 2,\n",
       "       'display_name': 'Features',\n",
       "       'default_value': 'sarcoma',\n",
       "       'conditional_on_id': None,\n",
       "       'type': 'string',\n",
       "       'description': 'Which features to extract. Options: sarcoma, head_neck',\n",
       "       'has_default_value': True}],\n",
       "     'description': 'Extract a cohort from the OMOP database',\n",
       "     'step_type': 'data extraction',\n",
       "     'databases': [{'multiple': None,\n",
       "       'description': 'The OMOP database',\n",
       "       'name': 'database',\n",
       "       'id': 1}],\n",
       "     'standalone': True}],\n",
       "   'code_url': 'https://github.com/idea4rc/v6-sessions',\n",
       "   'submitted_at': '2025-06-25T17:39:35.951882'}],\n",
       " 'links': {'first': '/store/algorithm?page=1',\n",
       "  'self': '/store/algorithm?page=1',\n",
       "  'last': '/store/algorithm?page=1'}}"
      ]
     },
     "execution_count": 67,
     "metadata": {},
     "output_type": "execute_result"
    }
   ],
   "source": [
    "# Obtain a list of all available algorithms in the algorithm store. For now two algorithms\n",
    "# are in there:\n",
    "#\n",
    "# - `sessions` (`harbor2.vantage6.ai/idea4rc/sessions:latest`). We've used this\n",
    "#   algorithm already when creating the cohort.\n",
    "# - `analytics` (`harbor2.vantage6.ai/idea4rc/analytics:latest`). This algorithm is\n",
    "#   used to create the analytics. We've already used this algorithm for the computation\n",
    "#   of the summary statistics. But this package currently also contains the crosstab\n",
    "#   statistics and will be extended in the future with all the other analytics.\n",
    "#\n",
    "# In the response, each algorithm has one or more `functions`. The `functions` are\n",
    "# actual Python functions that are executed on the data stations. A `function` in\n",
    "# vantage6 expects a specific set of attributes that can be modified by the user. You\n",
    "# should visualize these in a form in the RAVEN UI.\n",
    "#\n",
    "# 1. `databases`. A list of databases (typically only one) that will be supplied by the\n",
    "#    node based on the `label` or `dataframe_id`. A `label` refers to the OMOP\n",
    "#    database (in the IDEA4RC case) and is only used for the extraction algorithm (=\n",
    "#    `create_cohort`). The `dataframe_id` refers to the cohort dataframe which can be\n",
    "#    used for the analysis. In the extraction job we do not let the user select the\n",
    "#    database, as we always use the OMOP database. So no need to visualize this. In the\n",
    "#    analysis job we do let the user select the database, this happens when the user\n",
    "#    selects a set of cohorts.\n",
    "# 2. `arguments`. A list of arguments that can be modified by the user. In the case of\n",
    "#    the extraction algorithm we have two arguments: `patient_ids` and `features`. The\n",
    "#    `patient_ids` should be the list of patients that are comming from the cohort\n",
    "#    builder and the `features` should be the of the tumor type that was selected in the\n",
    "#    RAVEN workspace.\n",
    "#\n",
    "# The other important metadata are:\n",
    "#\n",
    "# 1. `name`. The method name, depending on which method the user selects in the UI\n",
    "#    different arguments need to be provided. You also need to provide this `name` in\n",
    "#    the `method` when creating a vantage6 task.\n",
    "# 2. `image`. The image is the docker image that will be used to execute the function.\n",
    "#    You also need to supply this when creating a vantage6 task.\n",
    "#\n",
    "# You should be able to use this metadata to create the interface in the RAVEN UI in\n",
    "# order to create a task.\n",
    "algorithms = requests.get(\n",
    "    \"https://orchestrator.idea.lst.tfo.upm.es/store/algorithm\",\n",
    "    headers=headers\n",
    ")\n",
    "algorithms.json()"
   ]
  },
  {
   "cell_type": "markdown",
   "metadata": {},
   "source": [
    "## 8. Create analytics (TODO)\n",
    "- Hardcoded algorithms\n",
    "- algorithm metadata (parameters, etc.)"
   ]
  },
  {
   "cell_type": "code",
   "execution_count": null,
   "metadata": {},
   "outputs": [],
   "source": [
    "#   - Create analytics\n",
    "#   - Poll for analytics results\n",
    "#   - Start preprocessing task\n",
    "#   - Poll for the preprocessing task to finish"
   ]
  }
 ],
 "metadata": {
  "kernelspec": {
   "display_name": "idea4rc-client",
   "language": "python",
   "name": "python3"
  },
  "language_info": {
   "codemirror_mode": {
    "name": "ipython",
    "version": 3
   },
   "file_extension": ".py",
   "mimetype": "text/x-python",
   "name": "python",
   "nbconvert_exporter": "python",
   "pygments_lexer": "ipython3",
   "version": "3.10.18"
  }
 },
 "nbformat": 4,
 "nbformat_minor": 2
}
