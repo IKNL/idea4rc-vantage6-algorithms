{
 "cells": [
  {
   "cell_type": "markdown",
   "metadata": {},
   "source": [
    "<img src=\"https://github.com/IKNL/guidelines/blob/master/resources/logos/iknl_nl.png?raw=true\" width=200 align=\"right\">\n",
    "\n",
    "# Vantage6 API for the RAVEN\n",
    "This notebook *should* contain all the code needed to interact with the vantage6 API from the RAVEN UI."
   ]
  },
  {
   "cell_type": "code",
   "execution_count": null,
   "metadata": {},
   "outputs": [],
   "source": [
    "# The following structure is used in this notebook. First we will handle some\n",
    "# prerequisites:\n",
    "#\n",
    "#   1. Authenticate with the vantage6 server - We are currently using the IKNL KeyCloak\n",
    "#      server. We should be able to swap it out for the CERTH KeyCloak server (if it is\n",
    "#      configured correctly).\n",
    "#   2. Creating prerequisites - This is **static** content which should already be at the\n",
    "#      vantage6 server. This is also not needed in case of the RAVEN UI, and you can skip\n",
    "#      this section as I already have created the required content. In the final\n",
    "#      deployment we will manage these through the vantage6 UI.\n",
    "#\n",
    "# And then the sections which are specific to the RAVEN UI:\n",
    "#\n",
    "#   3. Creating a new **Study** in case a new **Workspace** is created in RAVEN\n",
    "#   4. Creating a new **Session** in case a new **Analysis** is created in RAVEN\n",
    "#   5. Creating a new **DataFrame** for a new Cohorts in **RAVEN** using the provided `patient_ids`\n",
    "#   6. Running the **Summary** analysis for data exploration\n",
    "#   7. Running other analytics (crosstab, etc.)\n",
    "#\n",
    "# In the **future** this notebook will be extended with (1) new analytics and (2) data\n",
    "# preprocessing steps (e.g. imputation, new variables, etc.)\n",
    "#\n",
    "# This notebook is dependant on several services to be online. It might happen that one\n",
    "# of the services is not reachable. Contact the right person:\n",
    "#\n",
    "# - The `https://auth.vantage6.ai:8443` is not reachable (login gives a blanc screen).\n",
    "#   Make sure to contact IKNL (Anja van Gestel)\n",
    "# - The `https://orchestrator.idea.lst.tfo.upm.es/server/version` is not reachable.\n",
    "#   Most likely the service in the orchestrator is not running, best to ask Alejandro.\n",
    "# - You are able to send vantage6 tasks but the task always stays in the `pending`\n",
    "#   state. Typically the node came into a vegetative state because of a alpha bug.\n",
    "#   Contact Daniele to restart the pod (delete it) or maybe Alejandro can help.\n",
    "#\n",
    "# You need to install the following packages:\n",
    "#\n",
    "# - !pip install requests\n",
    "# - !pip install vantage6-client==5.0.0a22\n",
    "# - !pip install pandas\n",
    "#\n",
    "# I would recommend reading the short introduction about vantage6 in our documentation:\n",
    "# https://docs.vantage6.ai/en/main/introduction/introduction.html\n",
    "#"
   ]
  },
  {
   "cell_type": "code",
   "execution_count": 53,
   "metadata": {},
   "outputs": [],
   "source": [
    "import requests\n",
    "import json\n",
    "import base64\n",
    "\n",
    "from vantage6.client import UserClient"
   ]
  },
  {
   "cell_type": "markdown",
   "metadata": {},
   "source": [
    "## 1. Authenticate with the vantage6 server"
   ]
  },
  {
   "cell_type": "code",
   "execution_count": 54,
   "metadata": {},
   "outputs": [
    {
     "name": "stdout",
     "output_type": "stream",
     "text": [
      " Welcome to\n",
      "                  _                     __  \n",
      "                 | |                   / /  \n",
      "__   ____ _ _ __ | |_ __ _  __ _  ___ / /_  \n",
      "\\ \\ / / _` | '_ \\| __/ _` |/ _` |/ _ \\ '_ \\ \n",
      " \\ V / (_| | | | | || (_| | (_| |  __/ (_) |\n",
      "  \\_/ \\__,_|_| |_|\\__\\__,_|\\__, |\\___|\\___/ \n",
      "                            __/ |           \n",
      "                           |___/            \n",
      "\n",
      " --> Join us on Discord! https://discord.gg/rwRvwyK\n",
      " --> Docs: https://docs.vantage6.ai\n",
      " --> Blog: https://vantage6.ai\n",
      "------------------------------------------------------------\n",
      "Cite us!\n",
      "If you publish your findings obtained using vantage6, \n",
      "please cite the proper sources as mentioned in:\n",
      "https://vantage6.ai/vantage6/references\n",
      "------------------------------------------------------------\n",
      "opening browser for login\n"
     ]
    },
    {
     "name": "stderr",
     "output_type": "stream",
     "text": [
      "127.0.0.1 - - [08/Jul/2025 10:11:13] \"GET /callback?state=state&session_state=0c70256e-f0c8-4f56-8f93-780eda623470&iss=https%3A%2F%2Fauth.vantage6.ai%3A8443%2Frealms%2Fvantage7&code=63c397d1-30db-48ef-8320-af43a4184360.0c70256e-f0c8-4f56-8f93-780eda623470.40218515-930d-4f32-b4c8-4e650a2bfd46 HTTP/1.1\" 200 -\n"
     ]
    },
    {
     "name": "stdout",
     "output_type": "stream",
     "text": [
      " --> Succesfully authenticated\n",
      " --> Name: None (id=7)\n",
      " --> Organization: root (id=1)\n",
      "Server version:  {'version': '5.0.0a22'}\n"
     ]
    }
   ],
   "source": [
    "# I authenticated using the vantage6 client library as since we are now using keycloak\n",
    "# obtain the token from the keycloak server is not trivial because of the callback\n",
    "# mechanism. I expect that you know how to authenticate with keycloak\n",
    "#\n",
    "# NOTE: The refresh mechanism is not working as expected now that we moved to keycloak.\n",
    "# I've worked around this by setting the expiration time to 1 day. We need to fix this.\n",
    "\n",
    "# Authentication will open a browser window to authenticate. You can login with the\n",
    "# credentials I provided. It is also possible to just open a browser to\n",
    "# https://orchestrator.idea.lst.tfo.upm.es:443 and login. In case the login is not\n",
    "# working,\n",
    "client = UserClient(\n",
    "    \"https://orchestrator.idea.lst.tfo.upm.es:443/server\",\n",
    "    auth_url=\"https://auth.vantage6.ai:8443\",\n",
    "    auth_client=\"public_client\",\n",
    "    auth_realm=\"vantage7\",\n",
    "    log_level=\"INFO\"\n",
    ")\n",
    "client.authenticate()\n",
    "\n",
    "# Set the headers for the other requests\n",
    "headers = {\n",
    "    \"Authorization\": f\"Bearer {client._access_token}\"\n",
    "}\n",
    "\n",
    "# Print the server version\n",
    "print(\"Server version: \", client.util.get_server_version())"
   ]
  },
  {
   "cell_type": "markdown",
   "metadata": {},
   "source": [
    "## 2. Creating prerequisites (Static content)"
   ]
  },
  {
   "cell_type": "code",
   "execution_count": 11,
   "metadata": {},
   "outputs": [],
   "source": [
    "# This is 'static' content which should already be at the vantage6 server. The vantage6\n",
    "# UI can be used to manage the 'static' content. It is static from the point of view of\n",
    "# the RAVEN UI. All calls in this section use the vantage6 client library, as you don't\n",
    "# need to implement these in RAVEN.\n",
    "#\n",
    "# It is also possible to use the vantage6 UI for this purpose. You can use your browser\n",
    "# to navigate to `https://orchestrator.idea.lst.tfo.upm.es:443` and login with the\n",
    "# credentials I provided.\n",
    "#\n",
    "# **YOU DO NOT NEED TO CREATE THESE, YOU CAN SKIP THIS SECTION.**"
   ]
  },
  {
   "cell_type": "markdown",
   "metadata": {},
   "source": [
    "### 2.1 Create the organizations"
   ]
  },
  {
   "cell_type": "code",
   "execution_count": 12,
   "metadata": {},
   "outputs": [],
   "source": [
    "# client.organization.create(\n",
    "#     name=\"Example Organization 1\",\n",
    "#     address1=\"123 Main St\",\n",
    "#     address2=\"Apt 1\",\n",
    "#     zipcode=\"1234AB\",\n",
    "#     country=\"NL\",\n",
    "#     domain=\"example-organization-1.com\",\n",
    "# )"
   ]
  },
  {
   "cell_type": "code",
   "execution_count": 13,
   "metadata": {},
   "outputs": [],
   "source": [
    "# client.organization.create(\n",
    "#     name=\"Example Organization 2\",\n",
    "#     address1=\"123 Main St\",\n",
    "#     address2=\"Apt 2\",\n",
    "#     zipcode=\"1234AB\",\n",
    "#     country=\"NL\",\n",
    "#     domain=\"example-organization-2.com\",\n",
    "# )"
   ]
  },
  {
   "cell_type": "code",
   "execution_count": 14,
   "metadata": {},
   "outputs": [
    {
     "data": {
      "text/plain": [
       "[{'id': 3, 'name': 'Example Organization 2'},\n",
       " {'id': 2, 'name': 'Example Organization 1'},\n",
       " {'id': 1, 'name': 'root'}]"
      ]
     },
     "execution_count": 14,
     "metadata": {},
     "output_type": "execute_result"
    }
   ],
   "source": [
    "# The organizations are created. All organization have an ID which can be used to\n",
    "# identify the organization at a later stage.\n",
    "client.organization.list(fields=('id', 'name'))"
   ]
  },
  {
   "cell_type": "markdown",
   "metadata": {},
   "source": [
    "### 2.2 Create the users"
   ]
  },
  {
   "cell_type": "code",
   "execution_count": 15,
   "metadata": {},
   "outputs": [
    {
     "data": {
      "text/plain": [
       "[{'id': 2, 'name': 'container'},\n",
       " {'id': 1, 'name': 'Root'},\n",
       " {'id': 5, 'name': 'Researcher'},\n",
       " {'id': 6, 'name': 'Organization Admin'},\n",
       " {'id': 4, 'name': 'Viewer'},\n",
       " {'id': 3, 'name': 'node'},\n",
       " {'id': 7, 'name': 'Collaboration Admin'}]"
      ]
     },
     "execution_count": 15,
     "metadata": {},
     "output_type": "execute_result"
    }
   ],
   "source": [
    "# Users have certain permissions. These permissions are given in the form of `rules`. To\n",
    "# make it easier to manage them, they are grouped in `roles`. We can use the ID of the\n",
    "# role to assign it to a user.\n",
    "client.role.list(fields=('id', 'name'))"
   ]
  },
  {
   "cell_type": "code",
   "execution_count": 16,
   "metadata": {},
   "outputs": [],
   "source": [
    "# client.user.create(\n",
    "#     username=\"user1\",\n",
    "#     password=\"Password123!\",\n",
    "#     email=\"user1@example-organization-1.com\",\n",
    "#     firstname=\"User 1\",\n",
    "#     lastname=\"User 1\",\n",
    "#     organization=2,\n",
    "#     roles=[6]\n",
    "# )"
   ]
  },
  {
   "cell_type": "code",
   "execution_count": 17,
   "metadata": {},
   "outputs": [],
   "source": [
    "# client.user.create(\n",
    "#     username=\"user2\",\n",
    "#     password=\"Password123!\",\n",
    "#     email=\"user2@example-organization-2.com\",\n",
    "#     firstname=\"User 2\",\n",
    "#     lastname=\"User 2\",\n",
    "#     organization=3,\n",
    "#     roles=[6]\n",
    "# )"
   ]
  },
  {
   "cell_type": "code",
   "execution_count": 18,
   "metadata": {},
   "outputs": [],
   "source": [
    "# client.user.create(\n",
    "#     username=\"raven\",\n",
    "#     password=\"Password123!\",\n",
    "#     email=\"raven@example-organization-2.com\",\n",
    "#     firstname=\"Raven\",\n",
    "#     lastname=\"Raven\",\n",
    "#     organization=2,\n",
    "#     roles=[7]\n",
    "# )"
   ]
  },
  {
   "cell_type": "code",
   "execution_count": 19,
   "metadata": {},
   "outputs": [
    {
     "data": {
      "text/plain": [
       "[{'id': 7, 'username': 'admin'},\n",
       " {'id': 9, 'username': 'user_2'},\n",
       " {'id': 11, 'username': 'alejandro'},\n",
       " {'id': 4, 'username': 'raven'},\n",
       " {'id': 8, 'username': 'user_1'}]"
      ]
     },
     "execution_count": 19,
     "metadata": {},
     "output_type": "execute_result"
    }
   ],
   "source": [
    "# TODO FM: Check that the users are both in KeyCloak and in the vantage6 server.\n",
    "client.user.list(fields=('id', 'username'))"
   ]
  },
  {
   "cell_type": "markdown",
   "metadata": {},
   "source": [
    "### 2.3 Create the collaboration"
   ]
  },
  {
   "cell_type": "code",
   "execution_count": 20,
   "metadata": {},
   "outputs": [],
   "source": [
    "# client.collaboration.create(\n",
    "#     name=\"Example Collaboration 1\",\n",
    "#     organizations=[2, 3]\n",
    "# )"
   ]
  },
  {
   "cell_type": "code",
   "execution_count": 21,
   "metadata": {},
   "outputs": [
    {
     "data": {
      "text/plain": [
       "[{'id': 2, 'name': 'Testing'}, {'id': 1, 'name': 'Example Collaboration 1'}]"
      ]
     },
     "execution_count": 21,
     "metadata": {},
     "output_type": "execute_result"
    }
   ],
   "source": [
    "# In vantage6 multiple collaborations can be present. A collaboration is a group of\n",
    "# organizations that can collaborate on a certain task. In IDEA4RC we create one\n",
    "# collaboration for all CoE and Research Center organizations. We also have created a\n",
    "# testing collaboration for now. We need the collaboration ID to create a new session\n",
    "# and also when we want to create a new task.\n",
    "client.collaboration.list(fields=('id', 'name'), scope=\"global\")"
   ]
  },
  {
   "cell_type": "markdown",
   "metadata": {},
   "source": [
    "### 2.4 Create the nodes"
   ]
  },
  {
   "cell_type": "code",
   "execution_count": 22,
   "metadata": {},
   "outputs": [],
   "source": [
    "# client.node.create(\n",
    "#     collaboration=1,\n",
    "#     organization=2,\n",
    "#     name=\"Organization 2 Node 1\",\n",
    "# )"
   ]
  },
  {
   "cell_type": "code",
   "execution_count": 23,
   "metadata": {},
   "outputs": [],
   "source": [
    "# client.node.create(\n",
    "#     collaboration=1,\n",
    "#     organization=3,\n",
    "#     name=\"Organization 3 Node 1\",\n",
    "# )"
   ]
  },
  {
   "cell_type": "code",
   "execution_count": 24,
   "metadata": {},
   "outputs": [
    {
     "data": {
      "text/plain": [
       "[{'id': 10, 'name': 'Testing-root-node', 'status': 'online'},\n",
       " {'id': 6, 'name': 'Organization 3 Node 1', 'status': 'offline'},\n",
       " {'id': 5, 'name': 'Organization 2 Node 1', 'status': 'offline'}]"
      ]
     },
     "execution_count": 24,
     "metadata": {},
     "output_type": "execute_result"
    }
   ],
   "source": [
    "client.node.list(fields=(\"id\", \"name\", \"status\"))"
   ]
  },
  {
   "cell_type": "markdown",
   "metadata": {},
   "source": [
    "## 3. New Workspace\n",
    "*New study in vantage6*"
   ]
  },
  {
   "cell_type": "code",
   "execution_count": 55,
   "metadata": {},
   "outputs": [],
   "source": [
    "# Lets set the collaboration ID now to the testing collaboration. Later we need to\n",
    "# change this to the collaboration ID of the IDEA4RC collaboration.\n",
    "COLLABORATION_ID = 2"
   ]
  },
  {
   "cell_type": "code",
   "execution_count": 56,
   "metadata": {},
   "outputs": [
    {
     "data": {
      "text/plain": [
       "{'data': [{'domain': None,\n",
       "   'id': 1,\n",
       "   'address2': None,\n",
       "   'studies': '/server/study?organization_id=1',\n",
       "   'zipcode': None,\n",
       "   'runs': '/server/run?organization_id=1',\n",
       "   'country': None,\n",
       "   'nodes': '/server/node?organization_id=1',\n",
       "   'public_key': '',\n",
       "   'address1': None,\n",
       "   'collaborations': '/server/collaboration?organization_id=1',\n",
       "   'tasks': '/server/task?init_org_id=1',\n",
       "   'users': '/server/user?organization_id=1',\n",
       "   'name': 'root'}],\n",
       " 'links': {'first': '/server/organization?collaboration_id=2&page=1',\n",
       "  'self': '/server/organization?collaboration_id=2&page=1',\n",
       "  'last': '/server/organization?collaboration_id=2&page=1'}}"
      ]
     },
     "execution_count": 56,
     "metadata": {},
     "output_type": "execute_result"
    }
   ],
   "source": [
    "# Normally, we expect all organizations to be part of 'the' Collaboration. However, our\n",
    "# test collaboration does not. So we collect the organizations that are part of the\n",
    "# test collaboration and add them to the study. In RAVEN these are the organizations\n",
    "# that signed the data permit for the workspace.\n",
    "#\n",
    "# TODO We need to map the organizations in RAVEN to the organization ids in vantage6.\n",
    "#\n",
    "response = requests.get(\n",
    "    f\"https://orchestrator.idea.lst.tfo.upm.es/server/organization?collaboration_id={COLLABORATION_ID}\",\n",
    "    headers=headers\n",
    ")\n",
    "response.json()"
   ]
  },
  {
   "cell_type": "code",
   "execution_count": 57,
   "metadata": {},
   "outputs": [
    {
     "data": {
      "text/plain": [
       "[1]"
      ]
     },
     "execution_count": 57,
     "metadata": {},
     "output_type": "execute_result"
    }
   ],
   "source": [
    "ORGANIZATION_IDS = [org[\"id\"] for org in response.json()[\"data\"]]\n",
    "ORGANIZATION_IDS"
   ]
  },
  {
   "cell_type": "code",
   "execution_count": null,
   "metadata": {},
   "outputs": [
    {
     "data": {
      "text/plain": [
       "{'collaboration': {'id': 2,\n",
       "  'link': '/server/collaboration/2',\n",
       "  'methods': ['PATCH', 'DELETE', 'GET']},\n",
       " 'organizations': [{'domain': None,\n",
       "   'id': 1,\n",
       "   'address2': None,\n",
       "   'studies': '/server/study?organization_id=1',\n",
       "   'zipcode': None,\n",
       "   'runs': '/server/run?organization_id=1',\n",
       "   'country': None,\n",
       "   'nodes': '/server/node?organization_id=1',\n",
       "   'public_key': '',\n",
       "   'address1': None,\n",
       "   'collaborations': '/server/collaboration?organization_id=1',\n",
       "   'tasks': '/server/task?init_org_id=1',\n",
       "   'users': '/server/user?organization_id=1',\n",
       "   'name': 'root'}],\n",
       " 'id': 16,\n",
       " 'tasks': '/server/task?study_id=16',\n",
       " 'name': 'UPM Test Study 0'}"
      ]
     },
     "execution_count": 59,
     "metadata": {},
     "output_type": "execute_result"
    }
   ],
   "source": [
    "# To create a new study we need the organizations ids (the internal ids in vantage6)\n",
    "# that are included in this workspace. The name of the study needs to be unique.\n",
    "response = requests.post(\n",
    "    \"https://orchestrator.idea.lst.tfo.upm.es/server/study\",\n",
    "    headers=headers,\n",
    "    json={\n",
    "        # The collaboration id is the vantage6 id of the collaboration. This is\n",
    "        # is the same for all workspaces. I used 1 now, but this can change when we\n",
    "        # are still developing the platform.\n",
    "        \"collaboration_id\": COLLABORATION_ID,\n",
    "        # NOTE --- CHANGE THE NAME OF THE STUDY  ---\n",
    "        # The name of the study needs to be unique. I guess the name of the workspace\n",
    "        # is also unique, so we can use that. You could consider using a UUID.\n",
    "        \"name\": \"UPM Test Study 0\",\n",
    "        # The organization ids are the internal ids of the organizations in vantage6.\n",
    "        \"organization_ids\": ORGANIZATION_IDS,\n",
    "    }\n",
    ")\n",
    "response.json()\n",
    "# In the case that:\n",
    "#\n",
    "# - The name is not unique\n",
    "# - The collaboration id is not valid (non existing)\n",
    "# - The organization ids are not valid (non existing)\n",
    "#\n",
    "# The API will return a 4xx error with a message. It will be of the following format:\n",
    "# {\n",
    "#     \"msg\": \"Error message\",\n",
    "# }"
   ]
  },
  {
   "cell_type": "code",
   "execution_count": 60,
   "metadata": {},
   "outputs": [],
   "source": [
    "# Now that we have our study ID lets save it so we can use it later.\n",
    "STUDY_ID = response.json()[\"id\"]"
   ]
  },
  {
   "cell_type": "code",
   "execution_count": 61,
   "metadata": {},
   "outputs": [
    {
     "data": {
      "text/plain": [
       "[{'collaboration': {'id': 2,\n",
       "   'link': '/server/collaboration/2',\n",
       "   'methods': ['PATCH', 'DELETE', 'GET']},\n",
       "  'organizations': '/server/organization?study_id=16',\n",
       "  'id': 16,\n",
       "  'tasks': '/server/task?study_id=16',\n",
       "  'name': 'UPM Test Study 0'},\n",
       " {'collaboration': {'id': 1,\n",
       "   'link': '/server/collaboration/1',\n",
       "   'methods': ['PATCH', 'DELETE', 'GET']},\n",
       "  'organizations': '/server/organization?study_id=9',\n",
       "  'id': 9,\n",
       "  'tasks': '/server/task?study_id=9',\n",
       "  'name': 'Example Study 9'},\n",
       " {'collaboration': {'id': 1,\n",
       "   'link': '/server/collaboration/1',\n",
       "   'methods': ['PATCH', 'DELETE', 'GET']},\n",
       "  'organizations': '/server/organization?study_id=2',\n",
       "  'id': 2,\n",
       "  'tasks': '/server/task?study_id=2',\n",
       "  'name': 'Example Study 2'},\n",
       " {'collaboration': {'id': 1,\n",
       "   'link': '/server/collaboration/1',\n",
       "   'methods': ['PATCH', 'DELETE', 'GET']},\n",
       "  'organizations': '/server/organization?study_id=3',\n",
       "  'id': 3,\n",
       "  'tasks': '/server/task?study_id=3',\n",
       "  'name': 'Example Study 3'},\n",
       " {'collaboration': {'id': 2,\n",
       "   'link': '/server/collaboration/2',\n",
       "   'methods': ['PATCH', 'DELETE', 'GET']},\n",
       "  'organizations': '/server/organization?study_id=11',\n",
       "  'id': 11,\n",
       "  'tasks': '/server/task?study_id=11',\n",
       "  'name': 'Example Study 11'},\n",
       " {'collaboration': {'id': 2,\n",
       "   'link': '/server/collaboration/2',\n",
       "   'methods': ['PATCH', 'DELETE', 'GET']},\n",
       "  'organizations': '/server/organization?study_id=10',\n",
       "  'id': 10,\n",
       "  'tasks': '/server/task?study_id=10',\n",
       "  'name': 'Example Study 10'},\n",
       " {'collaboration': {'id': 2,\n",
       "   'link': '/server/collaboration/2',\n",
       "   'methods': ['PATCH', 'DELETE', 'GET']},\n",
       "  'organizations': '/server/organization?study_id=15',\n",
       "  'id': 15,\n",
       "  'tasks': '/server/task?study_id=15',\n",
       "  'name': 'UPM Test Study [x]'},\n",
       " {'collaboration': {'id': 2,\n",
       "   'link': '/server/collaboration/2',\n",
       "   'methods': ['PATCH', 'DELETE', 'GET']},\n",
       "  'organizations': '/server/organization?study_id=13',\n",
       "  'id': 13,\n",
       "  'tasks': '/server/task?study_id=13',\n",
       "  'name': 'Example Study 1'},\n",
       " {'collaboration': {'id': 1,\n",
       "   'link': '/server/collaboration/1',\n",
       "   'methods': ['PATCH', 'DELETE', 'GET']},\n",
       "  'organizations': '/server/organization?study_id=7',\n",
       "  'id': 7,\n",
       "  'tasks': '/server/task?study_id=7',\n",
       "  'name': 'Example Study 7'},\n",
       " {'collaboration': {'id': 1,\n",
       "   'link': '/server/collaboration/1',\n",
       "   'methods': ['PATCH', 'DELETE', 'GET']},\n",
       "  'organizations': '/server/organization?study_id=8',\n",
       "  'id': 8,\n",
       "  'tasks': '/server/task?study_id=8',\n",
       "  'name': 'Example Study 8'}]"
      ]
     },
     "execution_count": 61,
     "metadata": {},
     "output_type": "execute_result"
    }
   ],
   "source": [
    "# You can always view all studies. This endpoint is not necessarily needed for the\n",
    "# RAVEN UI but I thought it would be useful to have it here.\n",
    "response = requests.get(\"https://orchestrator.idea.lst.tfo.upm.es/server/study\", headers=headers)\n",
    "response.json()[\"data\"]"
   ]
  },
  {
   "cell_type": "code",
   "execution_count": 62,
   "metadata": {},
   "outputs": [
    {
     "data": {
      "text/plain": [
       "{'data': [{'domain': None,\n",
       "   'id': 1,\n",
       "   'address2': None,\n",
       "   'studies': '/server/study?organization_id=1',\n",
       "   'zipcode': None,\n",
       "   'runs': '/server/run?organization_id=1',\n",
       "   'country': None,\n",
       "   'nodes': '/server/node?organization_id=1',\n",
       "   'public_key': '',\n",
       "   'address1': None,\n",
       "   'collaborations': '/server/collaboration?organization_id=1',\n",
       "   'tasks': '/server/task?init_org_id=1',\n",
       "   'users': '/server/user?organization_id=1',\n",
       "   'name': 'root'}],\n",
       " 'links': {'first': '/server/organization?study_id=16&page=1',\n",
       "  'self': '/server/organization?study_id=16&page=1',\n",
       "  'last': '/server/organization?study_id=16&page=1'}}"
      ]
     },
     "execution_count": 62,
     "metadata": {},
     "output_type": "execute_result"
    }
   ],
   "source": [
    "# You can also view the organizations that are part of a study. This endpoint is not\n",
    "# necessarily needed for the RAVEN UI but I thought it would be useful to have it here.\n",
    "response = requests.get(\n",
    "    f\"https://orchestrator.idea.lst.tfo.upm.es/server/organization?study_id={STUDY_ID}\",\n",
    "    headers=headers\n",
    ")\n",
    "response.json()"
   ]
  },
  {
   "cell_type": "markdown",
   "metadata": {},
   "source": [
    "## 4. New Analysis\n",
    "*New session in vantage6*"
   ]
  },
  {
   "cell_type": "code",
   "execution_count": null,
   "metadata": {},
   "outputs": [
    {
     "data": {
      "text/plain": [
       "{'collaboration': {'id': 2,\n",
       "  'link': '/server/collaboration/2',\n",
       "  'methods': ['PATCH', 'DELETE', 'GET']},\n",
       " 'last_used_at': '2025-07-07T10:36:03.934431',\n",
       " 'study': {'id': 16,\n",
       "  'link': '/server/study/16',\n",
       "  'methods': ['PATCH', 'DELETE', 'GET']},\n",
       " 'dataframes': '/server/session/13/dataframe',\n",
       " 'created_at': '2025-07-07T10:36:03.934369',\n",
       " 'scope': 'col',\n",
       " 'id': 13,\n",
       " 'ready': True,\n",
       " 'owner': {'id': 7,\n",
       "  'link': '/server/user/7',\n",
       "  'methods': ['PATCH', 'DELETE', 'GET']},\n",
       " 'tasks': '/server/task?session_id=13',\n",
       " 'name': 'UPM Test Session 0'}"
      ]
     },
     "execution_count": 63,
     "metadata": {},
     "output_type": "execute_result"
    }
   ],
   "source": [
    "# When a new analysis is created in RAVEN we need to create a new session in vantage6.\n",
    "# A session is a file space on the data stations in which we can store dataframes (an\n",
    "# extraction of the data from the OMOP database). We need the study id which should be\n",
    "# stored in the workspace in order to create the session.\n",
    "response = requests.post(\n",
    "    \"https://orchestrator.idea.lst.tfo.upm.es/server/session\",\n",
    "    headers=headers,\n",
    "    json={\n",
    "        # The collaboration id is the vantage6 id of the collaboration. This is\n",
    "        # is the same for all workspaces. I used 1 now, but this can change when we\n",
    "        # are still developing the platform.\n",
    "        \"collaboration_id\": COLLABORATION_ID,\n",
    "        # NOTE --- CHANGE THE NAME OF THE SESSION  ---\n",
    "        # The name of the session needs to be unique within the collaboration, so in the\n",
    "        # case of IDEA4RC this needs to always be unique. I would use the analysis ID to\n",
    "        # create a unique name. You could consider using a UUID.\n",
    "        \"name\": \"UPM Test Session 0\",\n",
    "        # The study id should be linked to the workspace.\n",
    "        \"study_id\": STUDY_ID,\n",
    "        # The scope is the scope of the session. In IDEA4RC we use the collaboration\n",
    "        # scope. This means that others users can use the same session.\n",
    "        \"scope\": \"collaboration\"\n",
    "    }\n",
    ")\n",
    "response.json()\n",
    "# In the case that:\n",
    "#\n",
    "# - The name is not unique\n",
    "# - The study id is not valid (non existing)\n",
    "# - The scope is not valid (only 'collaboration' should be used)\n",
    "# - The collaboration id is not valid (non existing)\n",
    "#\n",
    "# The API will return a 4xx error with a message. It will be of the following format:\n",
    "# {\n",
    "#     \"msg\": \"Error message\",\n",
    "# }"
   ]
  },
  {
   "cell_type": "code",
   "execution_count": 64,
   "metadata": {},
   "outputs": [
    {
     "data": {
      "text/plain": [
       "13"
      ]
     },
     "execution_count": 64,
     "metadata": {},
     "output_type": "execute_result"
    }
   ],
   "source": [
    "SESSION_ID = response.json()[\"id\"]\n",
    "SESSION_ID"
   ]
  },
  {
   "cell_type": "markdown",
   "metadata": {},
   "source": [
    "## 5. New cohort\n",
    "*Create a new dataframe in vantage6*"
   ]
  },
  {
   "cell_type": "code",
   "execution_count": 65,
   "metadata": {},
   "outputs": [],
   "source": [
    "# When a new cohort is created vantage6 needs to extract the data from the OMOP database\n",
    "# and store it in the session as a dataframe. This is done by executing a vantage6\n",
    "# extraction task.\n",
    "\n",
    "#\n",
    "# Static content\n",
    "#\n",
    "image = \"harbor2.vantage6.ai/idea4rc/sessions:latest\"\n",
    "label = \"omop\"\n",
    "\n",
    "#\n",
    "# Dynamic content\n",
    "#\n",
    "# The name of the cohort, this should be unique within a session. You can probably use\n",
    "# the same name that you use in the RAVEN UI. Alternatively, we can also not send it.\n",
    "# In that case the name will be generated by vantage6.\n",
    "# name = \"Cohort_name_84\"\n",
    "\n",
    "# Each `image` can have multiple `methods`. We need to use a different method for\n",
    "# sarcoma and head and neck as we are extracting different features.\n",
    "method = \"create_cohort\"\n",
    "\n",
    "# The input for the task is the patient ids and which features we want to extract.\n",
    "arguments = {\n",
    "    \"kwargs\": {\n",
    "        # NOTE --- CHANGE THE PATIENT IDS TO THE PATIENT IDS OF THE COHORT ---\n",
    "        # These `patient_ids` should be coming from the cohort builder in RAVEN\n",
    "        \"patient_ids\": [1, 2, 3, 4, 5, 6, 7, 8, 9, 10],\n",
    "        # NOTE --- CHANGE THE FEATURES TO THE FEATURES OF THE COHORT ---\n",
    "        # The features are the features that we want to extract from the OMOP database.\n",
    "        # This can be either \"sarcoma\" or \"head_neck\".\n",
    "        # TODO The head_neck is not implemented yet.\n",
    "        \"features\": \"sarcoma\"\n",
    "    }\n",
    "}"
   ]
  },
  {
   "cell_type": "code",
   "execution_count": 66,
   "metadata": {},
   "outputs": [
    {
     "data": {
      "text/plain": [
       "{'label': 'omop',\n",
       " 'task': {'method': 'create_cohort',\n",
       "  'image': 'harbor2.vantage6.ai/idea4rc/sessions:latest',\n",
       "  'organizations': [{'id': 1,\n",
       "    'input': 'eyJrd2FyZ3MiOiB7InBhdGllbnRfaWRzIjogWzEsIDIsIDMsIDQsIDUsIDYsIDcsIDgsIDksIDEwXSwgImZlYXR1cmVzIjogInNhcmNvbWEifX0='}]}}"
      ]
     },
     "execution_count": 66,
     "metadata": {},
     "output_type": "execute_result"
    }
   ],
   "source": [
    "# before we can create a task we need to prepare task instructions. In vantage6 we can\n",
    "# (but we dont in IDEA4RC) use end-to-end encryption, therefore we need to store the\n",
    "# input for each organization individually.\n",
    "payload = {\n",
    "    \"label\": label,\n",
    "    # \"name\": name, # optional, v6 will generate a name if not provided\n",
    "    \"task\": {\n",
    "        \"method\": method,\n",
    "        \"image\": image,\n",
    "        # In vantage6 we can (but we dont in IDEA4RC) use end-to-end encryption,\n",
    "        # therefore we need to store the input for each organization individually.\n",
    "        \"organizations\": [\n",
    "            {\n",
    "                \"id\": id_,\n",
    "                \"input\": base64.b64encode(\n",
    "                    json.dumps(arguments).encode(\"UTF-8\")\n",
    "                ).decode(\"UTF-8\")\n",
    "            }\n",
    "            # We always create a cohort for all organizations in the study. Even though\n",
    "            # in a later stage we might send computation tasks to a subset of the\n",
    "            # organizations.\n",
    "            for id_ in ORGANIZATION_IDS\n",
    "        ]\n",
    "    }\n",
    "}\n",
    "payload"
   ]
  },
  {
   "cell_type": "code",
   "execution_count": 67,
   "metadata": {},
   "outputs": [
    {
     "data": {
      "text/plain": [
       "{'columns': [],\n",
       " 'db_label': 'omop',\n",
       " 'last_session_task': {'init_org': {'id': 1,\n",
       "   'link': '/server/organization/1',\n",
       "   'methods': ['PATCH', 'DELETE', 'GET']},\n",
       "  'job_id': 55,\n",
       "  'init_user': {'id': 7,\n",
       "   'link': '/server/user/7',\n",
       "   'methods': ['PATCH', 'DELETE', 'GET']},\n",
       "  'description': 'Data extraction step for session UPM Test Session 0 (13).This session is in the Testing collaboration. Data extraction is done on the omop database, and the dataframe name will be pedantic_chatterjee.',\n",
       "  'method': 'create_cohort',\n",
       "  'id': 76,\n",
       "  'session': {'id': 13,\n",
       "   'link': '/server/session/13',\n",
       "   'methods': ['PATCH', 'DELETE', 'GET']},\n",
       "  'dataframe': {'id': 44, 'db_label': 'omop', 'name': 'pedantic_chatterjee'},\n",
       "  'status': 'awaiting',\n",
       "  'databases': [{'label': 'omop',\n",
       "    'type': 'source',\n",
       "    'dataframe_id': None,\n",
       "    'dataframe_name': None,\n",
       "    'position': 0}],\n",
       "  'parent': None,\n",
       "  'created_at': '2025-07-08T08:23:38.754066',\n",
       "  'children': '/server/task?parent_id=76',\n",
       "  'collaboration': {'id': 2,\n",
       "   'link': '/server/collaboration/2',\n",
       "   'methods': ['PATCH', 'DELETE', 'GET']},\n",
       "  'algorithm_store': None,\n",
       "  'runs': '/server/run?task_id=76',\n",
       "  'results': '/server/result?task_id=76',\n",
       "  'required_by': [],\n",
       "  'name': 'Session initialization: UPM Test Session 0',\n",
       "  'finished_at': None,\n",
       "  'depends_on': [],\n",
       "  'study': {'id': 16,\n",
       "   'link': '/server/study/16',\n",
       "   'methods': ['PATCH', 'DELETE', 'GET']},\n",
       "  'image': 'harbor2.vantage6.ai/idea4rc/sessions:latest'},\n",
       " 'id': 44,\n",
       " 'ready': True,\n",
       " 'tasks': '/server/task?dataframe_id=44',\n",
       " 'session': {'id': 13,\n",
       "  'link': '/server/session/13',\n",
       "  'methods': ['PATCH', 'DELETE', 'GET']},\n",
       " 'name': 'pedantic_chatterjee'}"
      ]
     },
     "execution_count": 67,
     "metadata": {},
     "output_type": "execute_result"
    }
   ],
   "source": [
    "# Create a vantage6 task to extract the data from the OMOP data source and store it\n",
    "# into a dataframe.\n",
    "response = requests.post(\n",
    "    f\"https://orchestrator.idea.lst.tfo.upm.es/server/session/{SESSION_ID}/dataframe\",\n",
    "    headers=headers,\n",
    "    json=payload\n",
    ")\n",
    "TASK_ID = response.json()[\"last_session_task\"][\"id\"]\n",
    "DATAFRAME_ID = response.json()[\"id\"]\n",
    "response.json()"
   ]
  },
  {
   "cell_type": "code",
   "execution_count": 69,
   "metadata": {},
   "outputs": [
    {
     "data": {
      "text/plain": [
       "{'data': [{'cleanup_at': None,\n",
       "   'input': 'eyJrd2FyZ3MiOiB7InBhdGllbnRfaWRzIjogWzEsIDIsIDMsIDQsIDUsIDYsIDcsIDgsIDksIDEwXSwgImZlYXR1cmVzIjogInNhcmNvbWEifX0=',\n",
       "   'finished_at': '2025-07-08T08:23:52.391678',\n",
       "   'node': {'keycloak_id': '463fda17-82ac-45a5-8c14-aef4b89c9006',\n",
       "    'status': 'online',\n",
       "    'ip': None,\n",
       "    'id': 10,\n",
       "    'name': 'Testing-root-node'},\n",
       "   'task': {'id': 76, 'link': '/server/task/76', 'methods': ['DELETE', 'GET']},\n",
       "   'status': 'completed',\n",
       "   'action': 'data_extraction',\n",
       "   'id': 81,\n",
       "   'organization': {'id': 1,\n",
       "    'link': '/server/organization/1',\n",
       "    'methods': ['PATCH', 'DELETE', 'GET']},\n",
       "   'ports': [],\n",
       "   'log': \"LOGS of POD run-81-9lb24 (created by job run-81) \\n\\n info > wrapper for v6-sessions\\ninfo > Reading input file /app/vantage6/task/input\\ninfo > Dispatching ...\\n/usr/local/lib/python3.10/site-packages/v6-sessions/cohort.py:2: UserWarning: pkg_resources is deprecated as an API. See https://setuptools.pypa.io/en/latest/pkg_resources.html. The pkg_resources package is slated for removal as early as 2025-11-30. Refrain from using this package or pin to Setuptools<81.\\n  import pkg_resources\\ninfo > Module 'v6-sessions' imported!\\ninfo > Setting up connection to database\\nConnecting using PostgreSQL driver\\ninfo > Retrieving variables for cohort: [1, 2, 3, 4, 5, 6, 7, 8, 9, 10]\\ninfo > Loading SQL file: sarcoma\\ninfo > -->  Done\\ninfo > Injecting patient IDs into SQL\\ninfo > -->  Done\\ninfo > Executing SQL\\ninfo > Converting dataframe to pandas\\ninfo > -->  Done\\ninfo > Done!\\ninfo > Writing output to /app/vantage6/task/output\\n\\x1b[?25hR[write to console]: Warning messages:\\n\\nR[write to console]: 1: \\nR[write to console]: In (function (package, help, pos = 2, lib.loc = NULL, character.only = FALSE,  :\\nR[write to console]: \\n \\nR[write to console]:  library ‘/usr/lib/R/site-library’ contains no packages\\n\\nR[write to console]: 2: \\nR[write to console]: In (function (package, help, pos = 2, lib.loc = NULL, character.only = FALSE,  :\\nR[write to console]: \\n \\nR[write to console]:  library ‘/usr/lib/R/site-library’ contains no packages\\n\\nR[write to console]: 3: \\nR[write to console]: In (function (package, help, pos = 2, lib.loc = NULL, character.only = FALSE,  :\\nR[write to console]: \\n \\nR[write to console]:  library ‘/usr/lib/R/site-library’ contains no packages\\n\\nR[write to console]: 4: \\nR[write to console]: In (function (package, help, pos = 2, lib.loc = NULL, character.only = FALSE,  :\\nR[write to console]: \\n \\nR[write to console]:  library ‘/usr/lib/R/site-library’ contains no packages\\n\\nR[write to console]: 5: \\nR[write to console]: In (function (package, help, pos = 2, lib.loc = NULL, character.only = FALSE,  :\\nR[write to console]: \\n \\nR[write to console]:  library ‘/usr/lib/R/site-library’ contains no packages\\n\\n\\x1b[0m \\n\\n\\n\",\n",
       "   'results': {'id': 81,\n",
       "    'link': '/server/result/81',\n",
       "    'methods': ['GET', 'PATCH']},\n",
       "   'started_at': '2025-07-08T08:23:39.284465',\n",
       "   'assigned_at': '2025-07-07T10:36:03.908202'}],\n",
       " 'links': {'first': '/server/run?task_id=76&page=1',\n",
       "  'self': '/server/run?task_id=76&page=1',\n",
       "  'last': '/server/run?task_id=76&page=1'}}"
      ]
     },
     "execution_count": 69,
     "metadata": {},
     "output_type": "execute_result"
    }
   ],
   "source": [
    "\n",
    "# The status of the task (in this case the task that extract the data from the OMOP db\n",
    "# in order to create the dataframe) can be one of the following:\n",
    "#\n",
    "# - pending: The task is waiting to be executed.\n",
    "# - active: The task is being executed.\n",
    "# - completed: The task has finished successfully.\n",
    "# - crashed: The task crashed. You probably want to inspect the logs.\n",
    "#\n",
    "# You should poll the status of the task until it got one of the final states: crashed\n",
    "# or completed\n",
    "response = requests.get(\n",
    "    f\"https://orchestrator.idea.lst.tfo.upm.es/server/run?task_id={TASK_ID}\",\n",
    "    headers=headers,\n",
    ")\n",
    "response.json()\n"
   ]
  },
  {
   "cell_type": "code",
   "execution_count": null,
   "metadata": {},
   "outputs": [],
   "source": [
    "\n",
    "# Examples\n",
    "# --------\n",
    "# Some example responses, at some places i've used `...` to hide details that are not\n",
    "# super important for you. These example responses are similar for all tasks. That means\n",
    "# that the output can also be used as example for the Summary Statistics task.\n",
    "#\n",
    "#\n",
    "# (1) A pending task\n",
    "# ------------------\n",
    "# {'data': [{'status': 'pending',\n",
    "#    'organization': {...},\n",
    "#    'id': 39,\n",
    "#    'log': None,\n",
    "#    'cleanup_at': None,\n",
    "#    'action': 'data_extraction',\n",
    "#    'ports': [],\n",
    "#    'input': 'eyJrd2FyZ3MiOiB7InBhdGllbnRfaWRzIjogWzEsIDIsIDMsIDQsIDUsIDYsIDcsIDgsIDksIDEwXSwgImZlYXR1cmVzIjogInNhcmNvbWEifX0=',\n",
    "#    'task': {'id': 34, 'link': '/server/task/34', 'methods': ['GET', 'DELETE']},\n",
    "#    'assigned_at': '2025-07-03T11:33:56.136402',\n",
    "#    'finished_at': None,\n",
    "#    'results': {'id': 39,\n",
    "#     'link': '/server/result/39',\n",
    "#     'methods': ['GET', 'PATCH']},\n",
    "#    'node': {...},\n",
    "#    'started_at': '2025-07-07T09:07:24.187217'}],\n",
    "#  'links': {'first': '/server/run?task_id=34&page=1',\n",
    "#   'self': '/server/run?task_id=34&page=1',\n",
    "#   'last': '/server/run?task_id=34&page=1'}}\n",
    "\n",
    "# (2) A running task\n",
    "# ------------------\n",
    "# {'data': [{'status': 'active',\n",
    "#    'organization': {...},\n",
    "#    'id': 41,\n",
    "#    'log': None,\n",
    "#    'cleanup_at': None,\n",
    "#    'action': 'data_extraction',\n",
    "#    'ports': [],\n",
    "#    'input': 'eyJrd2FyZ3MiOiB7InBhdGllbnRfaWRzIjogWzEsIDIsIDMsIDQsIDUsIDYsIDcsIDgsIDksIDEwXSwgImZlYXR1cmVzIjogInNhcmNvbWEifX0=',\n",
    "#    'task': {'id': 36, 'link': '/server/task/36', 'methods': ['GET', 'DELETE']},\n",
    "#    'assigned_at': '2025-07-03T11:33:56.136402',\n",
    "#    'finished_at': None,\n",
    "#    'results': {'id': 41,\n",
    "#     'link': '/server/result/41',\n",
    "#     'methods': ['GET', 'PATCH']},\n",
    "#    'node': {...},\n",
    "#    'started_at': '2025-07-07T09:13:58.244181'}],\n",
    "#  'links': {'first': '/server/run?task_id=36&page=1',\n",
    "#   'self': '/server/run?task_id=36&page=1',\n",
    "#   'last': '/server/run?task_id=36&page=1'}}\n",
    "\n",
    "# (3) A completed task:\n",
    "# {'data': [{'status': 'completed',\n",
    "#    'organization': {...},\n",
    "#    'id': 43,\n",
    "#    'log': 'LOGS of POD run-43-rqbqj (created by job run-43) \\n\\n info > wrapper for v6-sessions\\ninfo > Reading input file /app/vantage6/task/input\\ninfo > Dispatching ...\\n/usr/local/lib/python3.10/site-packages/v6-sessions/cohort.py:2: UserWarning: pkg_resources is deprecated as an API. See https://setuptools.pypa.io/en/latest/pkg_resources.html. The pkg_resources package is slated for removal as early as 2025-11-30. Refrain from using this package or pin to Setuptools<81.\\n  import pkg_resources\\ninfo > Module \\'v6-sessions\\' imported!\\ninfo > Setting up connection to database\\n{\\'uri\\': \\'jdbc:postgresql://omop-postgres-service.datamesh.svc.cluster.local:5432/omopdb\\', \\'type\\': \\'other\\'}\\n$dbms\\n[1] \"postgresql\"\\n\\n$extraSettings\\nNULL\\n\\n$oracleDriver\\n[1] \"thin\"\\n\\n$pathToDriver\\n[1] \"/usr/local/lib/python3.10/site-packages/ohdsi/database_connector/java\"\\n\\n$user\\nfunction () \\nrlang::eval_tidy(userExpression)\\n<bytecode: 0x5585f6f99050>\\n<environment: 0x5585fca586f8>\\n\\n$password\\nfunction () \\nrlang::eval_tidy(passWordExpression)\\n<bytecode: 0x5585f6f98c28>\\n<environment: 0x5585fca586f8>\\n\\n$server\\nfunction () \\nrlang::eval_tidy(serverExpression)\\n<bytecode: 0x5585f758bf80>\\n<environment: 0x5585fca586f8>\\n\\n$port\\nfunction () \\nrlang::eval_tidy(portExpression)\\n<bytecode: 0x5585f758bb58>\\n<environment: 0x5585fca586f8>\\n\\n$connectionString\\nfunction () \\nrlang::eval_tidy(csExpression)\\n<bytecode: 0x5585f758b730>\\n<environment: 0x5585fca586f8>\\n\\nattr(,\"class\")\\n[1] \"ConnectionDetails\"        \"DefaultConnectionDetails\"\\n\\nConnecting using PostgreSQL driver\\ninfo > Retrieving variables for cohort: [1, 2, 3, 4, 5, 6, 7, 8, 9, 10]\\ninfo > Loading SQL file: sarcoma\\ninfo > -->  Done\\ninfo > Injecting patient IDs into SQL\\ninfo > -->  Done\\ninfo > Executing SQL\\ninfo > Converting dataframe to pandas\\ninfo > -->  Done\\ninfo > Done!\\ninfo > Writing output to /app/vantage6/task/output\\n\\x1b[?25hR[write to console]: Warning messages:\\n\\nR[write to console]: 1: \\nR[write to console]: In (function (package, help, pos = 2, lib.loc = NULL, character.only = FALSE,  :\\nR[write to console]: \\n \\nR[write to console]:  library ‘/usr/lib/R/site-library’ contains no packages\\n\\nR[write to console]: 2: \\nR[write to console]: In (function (package, help, pos = 2, lib.loc = NULL, character.only = FALSE,  :\\nR[write to console]: \\n \\nR[write to console]:  library ‘/usr/lib/R/site-library’ contains no packages\\n\\nR[write to console]: 3: \\nR[write to console]: In (function (package, help, pos = 2, lib.loc = NULL, character.only = FALSE,  :\\nR[write to console]: \\n \\nR[write to console]:  library ‘/usr/lib/R/site-library’ contains no packages\\n\\nR[write to console]: 4: \\nR[write to console]: In (function (package, help, pos = 2, lib.loc = NULL, character.only = FALSE,  :\\nR[write to console]: \\n \\nR[write to console]:  library ‘/usr/lib/R/site-library’ contains no packages\\n\\nR[write to console]: 5: \\nR[write to console]: In (function (package, help, pos = 2, lib.loc = NULL, character.only = FALSE,  :\\nR[write to console]: \\n \\nR[write to console]:  library ‘/usr/lib/R/site-library’ contains no packages\\n\\n\\x1b[0m \\n\\n\\n',\n",
    "#    'cleanup_at': None,\n",
    "#    'action': 'data_extraction',\n",
    "#    'ports': [],\n",
    "#    'input': 'eyJrd2FyZ3MiOiB7InBhdGllbnRfaWRzIjogWzEsIDIsIDMsIDQsIDUsIDYsIDcsIDgsIDksIDEwXSwgImZlYXR1cmVzIjogInNhcmNvbWEifX0=',\n",
    "#    'task': {'id': 38, 'link': '/server/task/38', 'methods': ['GET', 'DELETE']},\n",
    "#    'assigned_at': '2025-07-03T11:33:56.136402',\n",
    "#    'finished_at': '2025-07-07T09:33:56.195070',\n",
    "#    'results': {'id': 43,\n",
    "#     'link': '/server/result/43',\n",
    "#     'methods': ['GET', 'PATCH']},\n",
    "#    'node': {...},\n",
    "#    'started_at': '2025-07-07T09:32:57.230257'}],\n",
    "#  'links': {'first': '/server/run?task_id=38&page=1',\n",
    "#   'self': '/server/run?task_id=38&page=1',\n",
    "#   'last': '/server/run?task_id=38&page=1'}}\n",
    "\n",
    "# (4) A crashed task\n",
    "# ------------------\n",
    "# {'data': [{'status': 'crashed',\n",
    "#    'organization': {...},\n",
    "#    'id': 39,\n",
    "#    'log': 'LOGS of POD run-39-p9tkc (created by job run-39) \\n\\n info > wrapper for v6-sessions\\ninfo > Reading input file /app/vantage6/task/input\\ninfo > Dispatching ...\\n/usr/local/lib/python3.10/site-packages/v6-sessions/cohort.py:2: UserWarning: pkg_resources is deprecated as an API. See https://setuptools.pypa.io/en/latest/pkg_resources.html. The pkg_resources package is slated for removal as early as 2025-11-30. Refrain from using this package or pin to Setuptools<81.\\n  import pkg_resources\\ninfo > Module \\'v6-sessions\\' imported!\\ninfo > Setting up connection to database\\n{\\'uri\\': \\'jdbc:postgresql://omop-postgres-service.datamesh.svc.cluster.local:5432/omopdb\\', \\'type\\': \\'other\\'}\\n$dbms\\n[1] \"postgresql\"\\n\\n$extraSettings\\nNULL\\n\\n$oracleDriver\\n[1] \"thin\"\\n\\n$pathToDriver\\n[1] \"/usr/local/lib/python3.10/site-packages/ohdsi/database_connector/java\"\\n\\n$user\\nfunction () \\nrlang::eval_tidy(userExpression)\\n<bytecode: 0x55c12b738f70>\\n<environment: 0x55c1313a55c8>\\n\\n$password\\nfunction () \\nrlang::eval_tidy(passWordExpression)\\n<bytecode: 0x55c12b738b48>\\n<environment: 0x55c1313a55c8>\\n\\n$server\\nfunction () \\nrlang::eval_tidy(serverExpression)\\n<bytecode: 0x55c12b8a5a80>\\n<environment: 0x55c1313a55c8>\\n\\n$port\\nfunction () \\nrlang::eval_tidy(portExpression)\\n<bytecode: 0x55c12b8a5658>\\n<environment: 0x55c1313a55c8>\\n\\n$connectionString\\nfunction () \\nrlang::eval_tidy(csExpression)\\n<bytecode: 0x55c12b8a5230>\\n<environment: 0x55c1313a55c8>\\n\\nattr(,\"class\")\\n[1] \"ConnectionDetails\"        \"DefaultConnectionDetails\"\\n\\nConnecting using PostgreSQL driver\\ninfo > Retrieving variables for cohort: [1, 2, 3, 4, 5, 6, 7, 8, 9, 10]\\ninfo > Loading SQL file: sarcoma\\ninfo > -->  Done\\ninfo > Injecting patient IDs into SQL\\ninfo > -->  Done\\ninfo > Executing SQL\\ninfo > Converting dataframe to pandas\\n   PATIENT_ID  ...  N_CANCER_EPISODES\\n1        10.0  ...                0.0\\n2         2.0  ...                0.0\\n3         5.0  ...                0.0\\n4         8.0  ...                0.0\\n5         6.0  ...                0.0\\n\\n[5 rows x 21 columns]\\ninfo > -->  Done\\ninfo > Done!\\ninfo > Writing output to /app/vantage6/task/output\\nTraceback (most recent call last):\\n  File \"<string>\", line 1, in <module>\\n  File \"/usr/local/lib/python3.10/site-packages/vantage6/algorithm/tools/wrap.py\", line 75, in wrap_algorithm\\n    _write_output(output, output_file)\\n  File \"/usr/local/lib/python3.10/site-packages/vantage6/algorithm/tools/wrap.py\", line 199, in _write_output\\n    pq.write_table(output, output_file)\\n  File \"/usr/local/lib/python3.10/site-packages/pyarrow/parquet/core.py\", line 1884, in write_table\\n    where, table.schema,\\nAttributeError: \\'bytes\\' object has no attribute \\'schema\\'\\n\\x1b[?25hR[write to console]: Warning messages:\\n\\nR[write to console]: 1: \\nR[write to console]: In (function (package, help, pos = 2, lib.loc = NULL, character.only = FALSE,  :\\nR[write to console]: \\n \\nR[write to console]:  library ‘/usr/lib/R/site-library’ contains no packages\\n\\nR[write to console]: 2: \\nR[write to console]: In (function (package, help, pos = 2, lib.loc = NULL, character.only = FALSE,  :\\nR[write to console]: \\n \\nR[write to console]:  library ‘/usr/lib/R/site-library’ contains no packages\\n\\nR[write to console]: 3: \\nR[write to console]: In (function (package, help, pos = 2, lib.loc = NULL, character.only = FALSE,  :\\nR[write to console]: \\n \\nR[write to console]:  library ‘/usr/lib/R/site-library’ contains no packages\\n\\nR[write to console]: 4: \\nR[write to console]: In (function (package, help, pos = 2, lib.loc = NULL, character.only = FALSE,  :\\nR[write to console]: \\n \\nR[write to console]:  library ‘/usr/lib/R/site-library’ contains no packages\\n\\nR[write to console]: 5: \\nR[write to console]: In (function (package, help, pos = 2, lib.loc = NULL, character.only = FALSE,  :\\nR[write to console]: \\n \\nR[write to console]:  library ‘/usr/lib/R/site-library’ contains no packages\\n\\n\\x1b[0m \\n\\n\\n',\n",
    "#    'cleanup_at': None,\n",
    "#    'action': 'data_extraction',\n",
    "#    'ports': [],\n",
    "#    'input': 'eyJrd2FyZ3MiOiB7InBhdGllbnRfaWRzIjogWzEsIDIsIDMsIDQsIDUsIDYsIDcsIDgsIDksIDEwXSwgImZlYXR1cmVzIjogInNhcmNvbWEifX0=',\n",
    "#    'task': {'id': 34, 'link': '/server/task/34', 'methods': ['GET', 'DELETE']},\n",
    "#    'assigned_at': '2025-07-03T11:33:56.136402',\n",
    "#    'finished_at': '2025-07-07T09:07:55.422012',\n",
    "#    'results': {'id': 39,\n",
    "#     'link': '/server/result/39',\n",
    "#     'methods': ['GET', 'PATCH']},\n",
    "#    'node': {...},\n",
    "#    'started_at': '2025-07-07T09:07:24.187217'}],\n",
    "#  'links': {'first': '/server/run?task_id=34&page=1',\n",
    "#   'self': '/server/run?task_id=34&page=1',\n",
    "#   'last': '/server/run?task_id=34&page=1'}}"
   ]
  },
  {
   "cell_type": "markdown",
   "metadata": {},
   "source": [
    "## 6. Summary statistics"
   ]
  },
  {
   "cell_type": "code",
   "execution_count": 276,
   "metadata": {},
   "outputs": [],
   "source": [
    "# Before we can display the summary statistics we need to calculate them. This is done\n",
    "# through a vantage6 algorithm. We first need to be sure the dataframe is ready to be\n",
    "# used. Then we can execute the algorithm and await the results to be displayed."
   ]
  },
  {
   "cell_type": "code",
   "execution_count": 70,
   "metadata": {},
   "outputs": [],
   "source": [
    "# When a new cohort is created vantage6 needs to extract the data from the OMOP database\n",
    "# and store it in the session as a dataframe. This is done by executing a vantage6\n",
    "# extraction task.\n",
    "\n",
    "#\n",
    "# Static content\n",
    "#\n",
    "# This is the Docker image that contains the analysis `method` to compute the summary\n",
    "# statistics.\n",
    "image = \"harbor2.vantage6.ai/idea4rc/analytics:latest\"\n",
    "\n",
    "#\n",
    "# Dynamic content\n",
    "#\n",
    "# NOTE --- CHANGE THE NAME AND DESCRIPTION OF THE TASK ---\n",
    "# The name (and description) of the task does not need to be unique. It is used to\n",
    "# identify the task, so give it some meaningful name. For example include the cohorts\n",
    "# that are being analysed.\n",
    "name = \"Summary Statistics of Cohort 1\"\n",
    "description = \"Summary statistics of the cohort\"\n",
    "\n",
    "# Each `image` can have multiple `methods`. The `summary` method is used to compute the\n",
    "# summary statistics.\n",
    "method = \"summary\"\n",
    "\n",
    "# This is the vantage6 action that will be executed. The `central_compute` action is\n",
    "# an action that allows the method to create sub tasks.\n",
    "action = \"central_compute\"\n",
    "\n",
    "# NOTE --- CHANGE THE DATABASES TO THE DATABASES OF THE COHORT ---\n",
    "# The user can select multiple cohorts in the RAVEN UI to be analysed at the same time.\n",
    "databases = [\n",
    "    [\n",
    "        # In case the user selected multiple cohorts, we need to make a dict here per\n",
    "        # cohort. Each needs to contain the dataframe label that you obtained earlier.\n",
    "        {\n",
    "            \"type\": \"dataframe\",\n",
    "            \"dataframe_id\": DATAFRAME_ID\n",
    "        }\n",
    "        # {\n",
    "        #     \"type\": \"dataframe\",\n",
    "        #     \"dataframe_id\": DATAFRAME_ID_1\n",
    "        # },\n",
    "        # {\n",
    "        #     \"type\": \"dataframe\",\n",
    "        #     \"dataframe_id\": DATAFRAME_ID_2\n",
    "        # }\n",
    "    ]\n",
    "]\n",
    "\n",
    "# In case of the summary statistics we want to include all the organization and all the\n",
    "# columns(/features/variables) of the cohort. For now we included a subset of the\n",
    "# features.\n",
    "# TODO include other features as well.\n",
    "arguments = {\n",
    "    \"kwargs\": {\n",
    "        \"columns\": [\"PATIENT_ID\", \"AGE\", \"TUMOR_SIZE\", \"N_CANCER_EPISODES\", \"SEX\",\n",
    "                    \"STATUS\"],\n",
    "        # It is also possible to use a subset of organizations here. In case the user\n",
    "        # makes a selection of organizations in the RAVEN UI.\n",
    "        \"organizations_to_include\": ORGANIZATION_IDS\n",
    "    }\n",
    "}"
   ]
  },
  {
   "cell_type": "code",
   "execution_count": 71,
   "metadata": {},
   "outputs": [
    {
     "data": {
      "text/plain": [
       "{'name': 'Summary Statistics of Cohort 1',\n",
       " 'image': 'harbor2.vantage6.ai/idea4rc/analytics:latest',\n",
       " 'description': 'Summary statistics of the cohort',\n",
       " 'action': 'central_compute',\n",
       " 'method': 'summary',\n",
       " 'organizations': [{'id': 1,\n",
       "   'input': 'eyJrd2FyZ3MiOiB7ImNvbHVtbnMiOiBbIlBBVElFTlRfSUQiLCAiQUdFIiwgIlRVTU9SX1NJWkUiLCAiTl9DQU5DRVJfRVBJU09ERVMiLCAiU0VYIiwgIlNUQVRVUyJdLCAib3JnYW5pemF0aW9uc190b19pbmNsdWRlIjogWzFdfX0='}],\n",
       " 'databases': [[{'type': 'dataframe', 'dataframe_id': 44}]],\n",
       " 'session_id': 13,\n",
       " 'study_id': 16}"
      ]
     },
     "execution_count": 71,
     "metadata": {},
     "output_type": "execute_result"
    }
   ],
   "source": [
    "payload = {\n",
    "    \"name\": name,\n",
    "    \"image\": image,\n",
    "    \"description\": description,\n",
    "    \"action\": action,\n",
    "    \"method\": method,\n",
    "    \"organizations\": [\n",
    "        {\n",
    "            # We only send the task to one organization, as this is a central compute.\n",
    "            # The central compute will create tasks for all the organization specified\n",
    "            # in the `organizations_to_include` argument.\n",
    "            \"id\": ORGANIZATION_IDS[0],\n",
    "            \"input\": base64.b64encode(\n",
    "                json.dumps(arguments).encode(\"UTF-8\")\n",
    "            ).decode(\"UTF-8\")\n",
    "        }\n",
    "    ],\n",
    "    \"databases\": databases,\n",
    "    \"session_id\": SESSION_ID,\n",
    "    \"study_id\": STUDY_ID\n",
    "}\n",
    "payload\n"
   ]
  },
  {
   "cell_type": "code",
   "execution_count": 72,
   "metadata": {},
   "outputs": [
    {
     "data": {
      "text/plain": [
       "{'init_org': {'id': 1,\n",
       "  'link': '/server/organization/1',\n",
       "  'methods': ['PATCH', 'DELETE', 'GET']},\n",
       " 'job_id': 56,\n",
       " 'init_user': {'id': 7,\n",
       "  'link': '/server/user/7',\n",
       "  'methods': ['PATCH', 'DELETE', 'GET']},\n",
       " 'description': 'Summary statistics of the cohort',\n",
       " 'method': 'summary',\n",
       " 'id': 77,\n",
       " 'session': {'id': 13,\n",
       "  'link': '/server/session/13',\n",
       "  'methods': ['PATCH', 'DELETE', 'GET']},\n",
       " 'dataframe': None,\n",
       " 'status': 'awaiting',\n",
       " 'databases': [{'label': None,\n",
       "   'type': 'dataframe',\n",
       "   'dataframe_id': 44,\n",
       "   'dataframe_name': 'pedantic_chatterjee',\n",
       "   'position': 0}],\n",
       " 'parent': None,\n",
       " 'created_at': '2025-07-08T08:35:44.436670',\n",
       " 'children': '/server/task?parent_id=77',\n",
       " 'collaboration': {'id': 2,\n",
       "  'link': '/server/collaboration/2',\n",
       "  'methods': ['PATCH', 'DELETE', 'GET']},\n",
       " 'algorithm_store': None,\n",
       " 'runs': '/server/run?task_id=77',\n",
       " 'results': '/server/result?task_id=77',\n",
       " 'required_by': [],\n",
       " 'name': 'Summary Statistics of Cohort 1',\n",
       " 'finished_at': None,\n",
       " 'depends_on': [],\n",
       " 'study': {'id': 16,\n",
       "  'link': '/server/study/16',\n",
       "  'methods': ['PATCH', 'DELETE', 'GET']},\n",
       " 'image': 'harbor2.vantage6.ai/idea4rc/analytics:latest'}"
      ]
     },
     "execution_count": 72,
     "metadata": {},
     "output_type": "execute_result"
    }
   ],
   "source": [
    "# Create a vantage6 task to execute the summary analysis.\n",
    "response = requests.post(\n",
    "    f\"https://orchestrator.idea.lst.tfo.upm.es/server/task\",\n",
    "    headers=headers,\n",
    "    json=payload\n",
    ")\n",
    "TASK_ID = response.json()[\"id\"]\n",
    "response.json()\n",
    "\n",
    "# The status of the task (in this case the task that computes the summary statistics)\n",
    "# can be one of the following:\n",
    "#\n",
    "# - pending: The task is waiting to be executed.\n",
    "# - active: The task is being executed.\n",
    "# - completed: The task has finished successfully.\n",
    "# - crashed: The task crashed. You probably want to inspect the logs.\n",
    "#\n",
    "# You should poll the status of the task until it got one of the final states: crashed\n",
    "# or completed"
   ]
  },
  {
   "cell_type": "code",
   "execution_count": 73,
   "metadata": {},
   "outputs": [
    {
     "data": {
      "text/plain": [
       "{'data': [{'cleanup_at': None,\n",
       "   'input': 'eyJrd2FyZ3MiOiB7ImNvbHVtbnMiOiBbIlBBVElFTlRfSUQiLCAiQUdFIiwgIlRVTU9SX1NJWkUiLCAiTl9DQU5DRVJfRVBJU09ERVMiLCAiU0VYIiwgIlNUQVRVUyJdLCAib3JnYW5pemF0aW9uc190b19pbmNsdWRlIjogWzFdfX0=',\n",
       "   'finished_at': '2025-07-08T08:36:12.435413',\n",
       "   'node': {'keycloak_id': '463fda17-82ac-45a5-8c14-aef4b89c9006',\n",
       "    'status': 'online',\n",
       "    'ip': None,\n",
       "    'id': 10,\n",
       "    'name': 'Testing-root-node'},\n",
       "   'task': {'id': 77, 'link': '/server/task/77', 'methods': ['DELETE', 'GET']},\n",
       "   'status': 'completed',\n",
       "   'action': 'central_compute',\n",
       "   'id': 82,\n",
       "   'organization': {'id': 1,\n",
       "    'link': '/server/organization/1',\n",
       "    'methods': ['PATCH', 'DELETE', 'GET']},\n",
       "   'ports': [],\n",
       "   'log': \"LOGS of POD run-82-bkcx7 (created by job run-82) \\n\\n info > wrapper for v6-analytics\\ninfo > Reading input file /app/vantage6/task/input\\ninfo > Dispatching ...\\ninfo > Using dataframes decorator\\ninfo > Using dataframes decorator\\ninfo > Using dataframes decorator\\ninfo > Module 'v6-analytics' imported!\\ninfo > Defining input parameters\\ninfo > Creating subtask for all organizations in the collaboration\\ninfo > Waiting for results\\ninfo > Waiting for results of task 78...\\ninfo > Waiting for results of task 78...\\ninfo > Waiting for results of task 78...\\ninfo > Waiting for results of task 78...\\ninfo > Waiting for results of task 78...\\ninfo > Waiting for results of task 78...\\ninfo > Waiting for results of task 78...\\ninfo > Waiting for results of task 78...\\ninfo > Done!\\ninfo > Results obtained!\\ninfo > Aggregating partial summaries\\ninfo > n num cols: 4\\ninfo > n means: 4\\ninfo > Hello!\\ninfo > Waiting for results of task 79...\\ninfo > Waiting for results of task 79...\\ninfo > Waiting for results of task 79...\\ninfo > Waiting for results of task 79...\\ninfo > Waiting for results of task 79...\\ninfo > Waiting for results of task 79...\\ninfo > Waiting for results of task 79...\\ninfo > Waiting for results of task 79...\\ninfo > Done!\\ninfo > Goodbye!\\ninfo > Writing output to /app/vantage6/task/output\\n\\x1b[0m \\n\\n\\n\",\n",
       "   'results': {'id': 82,\n",
       "    'link': '/server/result/82',\n",
       "    'methods': ['GET', 'PATCH']},\n",
       "   'started_at': '2025-07-08T08:35:45.927654',\n",
       "   'assigned_at': '2025-07-07T10:36:03.908202'}],\n",
       " 'links': {'first': '/server/run?task_id=77&page=1',\n",
       "  'self': '/server/run?task_id=77&page=1',\n",
       "  'last': '/server/run?task_id=77&page=1'}}"
      ]
     },
     "execution_count": 73,
     "metadata": {},
     "output_type": "execute_result"
    }
   ],
   "source": [
    "# TODO Summary per CoE\n",
    "# The status of the task (in this case the task that computes the summary statistics)\n",
    "# can be one of the following:\n",
    "#\n",
    "# - pending: The task is waiting to be executed.\n",
    "# - active: The task is being executed.\n",
    "# - completed: The task has finished successfully.\n",
    "# - crashed: The task crashed. You probably want to inspect the logs.\n",
    "#\n",
    "# You should poll the status of the task until it got one of the final states: crashed\n",
    "# or completed\n",
    "response = requests.get(\n",
    "    f\"https://orchestrator.idea.lst.tfo.upm.es/server/run?task_id={TASK_ID}\",\n",
    "    headers=headers,\n",
    ")\n",
    "response.json()"
   ]
  },
  {
   "cell_type": "code",
   "execution_count": 74,
   "metadata": {},
   "outputs": [
    {
     "data": {
      "text/plain": [
       "{'pedantic_chatterjee': {'numeric': {'PATIENT_ID': {'count': 10.0,\n",
       "    'min': 1.0,\n",
       "    'max': 10.0,\n",
       "    'missing': 0.0,\n",
       "    'sum': 55.0,\n",
       "    'median': [5.5],\n",
       "    'q_25': [3.25],\n",
       "    'q_75': [7.75],\n",
       "    'mean': 5.5,\n",
       "    'std': 3.0276503540974917},\n",
       "   'AGE': {'count': 10.0,\n",
       "    'min': 19.0,\n",
       "    'max': 74.0,\n",
       "    'missing': 0.0,\n",
       "    'sum': 459.0,\n",
       "    'median': [49.0],\n",
       "    'q_25': [24.75],\n",
       "    'q_75': [65.0],\n",
       "    'mean': 45.9,\n",
       "    'std': 21.231266252078953},\n",
       "   'TUMOR_SIZE': {'count': 8.0,\n",
       "    'min': 1.1,\n",
       "    'max': 9.1,\n",
       "    'missing': 2.0,\n",
       "    'sum': 31.6,\n",
       "    'median': [3.9000000000000004],\n",
       "    'q_25': [1.8],\n",
       "    'q_75': [4.95],\n",
       "    'mean': 3.95,\n",
       "    'std': 2.5718253662108777},\n",
       "   'N_CANCER_EPISODES': {'count': 10.0,\n",
       "    'min': 1.0,\n",
       "    'max': 1.0,\n",
       "    'missing': 0.0,\n",
       "    'sum': 10.0,\n",
       "    'median': [1.0],\n",
       "    'q_25': [1.0],\n",
       "    'q_75': [1.0],\n",
       "    'mean': 1.0,\n",
       "    'std': 0.0}},\n",
       "  'categorical': {'SEX': {'count': 10, 'missing': 0},\n",
       "   'STATUS': {'count': 10, 'missing': 0}},\n",
       "  'num_complete_rows_per_node': [8],\n",
       "  'counts_unique_values': {'SEX': {'FEMALE': 5, 'MALE': 5},\n",
       "   'STATUS': {'DEAD': 6, 'ALIVE': 4}}}}"
      ]
     },
     "execution_count": 74,
     "metadata": {},
     "output_type": "execute_result"
    }
   ],
   "source": [
    "# When the task is completed, we can retrieve the result.\n",
    "response = requests.get(\n",
    "    f\"https://orchestrator.idea.lst.tfo.upm.es/server/result?task_id={TASK_ID}\",\n",
    "    headers=headers,\n",
    ")\n",
    "\n",
    "# The result is a base64 encoded string. We need to decode it to get the actual result.\n",
    "# Since this is a central task (see that we've only sent the task to one organization in\n",
    "# the `organizations` argument in the original request), we can just take the first\n",
    "# result.\n",
    "json.loads(base64.b64decode(response.json()[\"data\"][0][\"result\"]))"
   ]
  },
  {
   "cell_type": "markdown",
   "metadata": {},
   "source": [
    "# 7. Collect algorithm metadata\n",
    "*Collect input arguments and their types*"
   ]
  },
  {
   "cell_type": "code",
   "execution_count": 75,
   "metadata": {},
   "outputs": [
    {
     "data": {
      "text/plain": [
       "{'data': [{'code_url': 'https://github.com/idea4rc/v6-analytics',\n",
       "   'functions': [{'arguments': [{'is_frontend_only': False,\n",
       "       'default_value': '',\n",
       "       'display_name': 'Columns',\n",
       "       'description': 'List of columns to compute the summary statistics for',\n",
       "       'conditional_operator': None,\n",
       "       'type': 'column_list',\n",
       "       'conditional_value': None,\n",
       "       'conditional_on_id': None,\n",
       "       'name': 'columns',\n",
       "       'has_default_value': False,\n",
       "       'id': 10},\n",
       "      {'is_frontend_only': False,\n",
       "       'default_value': None,\n",
       "       'display_name': 'Organizations to include',\n",
       "       'description': 'The organizations to include in the task. If not given, all organizations in the collaboration are included.',\n",
       "       'conditional_operator': None,\n",
       "       'type': 'organization_list',\n",
       "       'conditional_value': None,\n",
       "       'conditional_on_id': None,\n",
       "       'name': 'organizations_to_include',\n",
       "       'has_default_value': True,\n",
       "       'id': 11}],\n",
       "     'step_type': 'central_compute',\n",
       "     'display_name': 'Summary statistics',\n",
       "     'description': 'Compute summary statistics for a set of cohorts',\n",
       "     'standalone': True,\n",
       "     'ui_visualizations': [],\n",
       "     'name': 'summary',\n",
       "     'databases': [{'description': 'The cohorts to compute the summary statistics for',\n",
       "       'multiple': True,\n",
       "       'id': 4,\n",
       "       'name': 'cohorts'}],\n",
       "     'id': 4},\n",
       "    {'arguments': [{'is_frontend_only': False,\n",
       "       'default_value': '',\n",
       "       'display_name': 'Results column',\n",
       "       'description': 'The column to compute the crosstab statistics for',\n",
       "       'conditional_operator': None,\n",
       "       'type': 'column_list',\n",
       "       'conditional_value': None,\n",
       "       'conditional_on_id': None,\n",
       "       'name': 'results_col',\n",
       "       'has_default_value': False,\n",
       "       'id': 12},\n",
       "      {'is_frontend_only': False,\n",
       "       'default_value': '',\n",
       "       'display_name': 'Group columns',\n",
       "       'description': 'The columns to group the data by',\n",
       "       'conditional_operator': None,\n",
       "       'type': 'column_list',\n",
       "       'conditional_value': None,\n",
       "       'conditional_on_id': None,\n",
       "       'name': 'group_cols',\n",
       "       'has_default_value': False,\n",
       "       'id': 13},\n",
       "      {'is_frontend_only': False,\n",
       "       'default_value': None,\n",
       "       'display_name': 'Organizations to include',\n",
       "       'description': 'The organizations to include in the task. If not given, all organizations in the collaboration are included.',\n",
       "       'conditional_operator': None,\n",
       "       'type': 'organization_list',\n",
       "       'conditional_value': None,\n",
       "       'conditional_on_id': None,\n",
       "       'name': 'organizations_to_include',\n",
       "       'has_default_value': True,\n",
       "       'id': 14},\n",
       "      {'is_frontend_only': False,\n",
       "       'default_value': 'true',\n",
       "       'display_name': 'Include Chi2 statistic',\n",
       "       'description': 'Whether to include the results of a chi-squared statistic test in the results or not. By default, it is included.',\n",
       "       'conditional_operator': None,\n",
       "       'type': 'boolean',\n",
       "       'conditional_value': None,\n",
       "       'conditional_on_id': None,\n",
       "       'name': 'include_chi2',\n",
       "       'has_default_value': True,\n",
       "       'id': 15},\n",
       "      {'is_frontend_only': False,\n",
       "       'default_value': 'true',\n",
       "       'display_name': 'Include totals',\n",
       "       'description': 'Whether to include the sums of the rows and columns or not. By default, they are included.',\n",
       "       'conditional_operator': None,\n",
       "       'type': 'boolean',\n",
       "       'conditional_value': None,\n",
       "       'conditional_on_id': None,\n",
       "       'name': 'include_totals',\n",
       "       'has_default_value': True,\n",
       "       'id': 16}],\n",
       "     'step_type': 'central_compute',\n",
       "     'display_name': 'Crosstab statistics',\n",
       "     'description': 'Compute crosstab statistics for a set of cohorts',\n",
       "     'standalone': True,\n",
       "     'ui_visualizations': [],\n",
       "     'name': 'crosstab',\n",
       "     'databases': [{'description': 'The cohorts to compute the crosstab statistics for',\n",
       "       'multiple': True,\n",
       "       'id': 5,\n",
       "       'name': 'cohorts'}],\n",
       "     'id': 5}],\n",
       "   'description': 'This algorithm computes summary statistics for a set of cohorts',\n",
       "   'approved_at': '2025-07-01T08:59:34.075847',\n",
       "   'reviews': '/store/review?algorithm_id=3',\n",
       "   'documentation_url': 'https://github.com/idea4rc/v6-analytics',\n",
       "   'developer_id': 3,\n",
       "   'image': 'harbor2.vantage6.ai/idea4rc/analytics',\n",
       "   'digest': 'sha256:dd35b7dcc89a9b25ffee86e9ca67c055b935f65af756427bfb2509cb231a41d8',\n",
       "   'status': 'approved',\n",
       "   'partitioning': 'horizontal',\n",
       "   'name': 'v6-idea4rc-analytics',\n",
       "   'vantage6_version': '5.0.0a22',\n",
       "   'submission_comments': 'Updated the display names',\n",
       "   'id': 3,\n",
       "   'invalidated_at': None,\n",
       "   'submitted_at': '2025-07-01T08:56:29.213491'},\n",
       "  {'code_url': 'https://github.com/idea4rc/v6-sessions',\n",
       "   'functions': [{'arguments': [{'is_frontend_only': False,\n",
       "       'default_value': '',\n",
       "       'display_name': 'Patient IDs',\n",
       "       'description': 'List of patient IDs to extract',\n",
       "       'conditional_operator': None,\n",
       "       'type': 'integer_list',\n",
       "       'conditional_value': None,\n",
       "       'conditional_on_id': None,\n",
       "       'name': 'patient_ids',\n",
       "       'has_default_value': False,\n",
       "       'id': 1},\n",
       "      {'is_frontend_only': False,\n",
       "       'default_value': 'sarcoma',\n",
       "       'display_name': 'Features',\n",
       "       'description': 'Which features to extract. Options: sarcoma, head_neck',\n",
       "       'conditional_operator': None,\n",
       "       'type': 'string',\n",
       "       'conditional_value': None,\n",
       "       'conditional_on_id': None,\n",
       "       'name': 'features',\n",
       "       'has_default_value': True,\n",
       "       'id': 2}],\n",
       "     'step_type': 'data extraction',\n",
       "     'display_name': 'Create cohort',\n",
       "     'description': 'Extract a cohort from the OMOP database',\n",
       "     'standalone': True,\n",
       "     'ui_visualizations': [],\n",
       "     'name': 'create_cohort',\n",
       "     'databases': [{'description': 'The OMOP database',\n",
       "       'multiple': None,\n",
       "       'id': 1,\n",
       "       'name': 'database'}],\n",
       "     'id': 1}],\n",
       "   'description': 'This algorithm extracts a cohort from the OMOP database.',\n",
       "   'approved_at': '2025-06-25T18:06:06.060991',\n",
       "   'reviews': '/store/review?algorithm_id=1',\n",
       "   'documentation_url': 'https://github.com/idea4rc/v6-sessions',\n",
       "   'developer_id': 1,\n",
       "   'image': 'harbor2.vantage6.ai/idea4rc/sessions',\n",
       "   'digest': 'sha256:6bc8186d695ef585381d7a1d0e1d727725055b9c02637601a5644ae277bc7fa5',\n",
       "   'status': 'approved',\n",
       "   'partitioning': 'horizontal',\n",
       "   'name': 'v6-idea4rc-sessions',\n",
       "   'vantage6_version': '5.0.0a19',\n",
       "   'submission_comments': '',\n",
       "   'id': 1,\n",
       "   'invalidated_at': None,\n",
       "   'submitted_at': '2025-06-25T17:39:35.951882'}],\n",
       " 'links': {'first': '/store/algorithm?page=1',\n",
       "  'self': '/store/algorithm?page=1',\n",
       "  'last': '/store/algorithm?page=1'}}"
      ]
     },
     "execution_count": 75,
     "metadata": {},
     "output_type": "execute_result"
    }
   ],
   "source": [
    "# Obtain a list of all available algorithms in the algorithm store. For now two algorithms\n",
    "# are in there:\n",
    "#\n",
    "# - `sessions` (`harbor2.vantage6.ai/idea4rc/sessions:latest`). We've used this\n",
    "#   algorithm already when creating the cohort.\n",
    "# - `analytics` (`harbor2.vantage6.ai/idea4rc/analytics:latest`). This algorithm is\n",
    "#   used to create the analytics. We've already used this algorithm for the computation\n",
    "#   of the summary statistics. But this package currently also contains the crosstab\n",
    "#   statistics and will be extended in the future with all the other analytics.\n",
    "#\n",
    "# In the response, each algorithm has one or more `functions`. The `functions` are\n",
    "# actual Python functions that are executed on the data stations. A `function` in\n",
    "# vantage6 expects a specific set of attributes that can be modified by the user. You\n",
    "# should visualize these in a form in the RAVEN UI.\n",
    "#\n",
    "# 1. `databases`. A list of databases (typically only one) that will be supplied by the\n",
    "#    node based on the `label` or `dataframe_id`. A `label` refers to the OMOP\n",
    "#    database (in the IDEA4RC case) and is only used for the extraction algorithm (=\n",
    "#    `create_cohort`). The `dataframe_id` refers to the cohort dataframe which can be\n",
    "#    used for the analysis. In the extraction job we do not let the user select the\n",
    "#    database, as we always use the OMOP database. So no need to visualize this. In the\n",
    "#    analysis job we do let the user select the database, this happens when the user\n",
    "#    selects a set of cohorts.\n",
    "# 2. `arguments`. A list of arguments that can be modified by the user. In the case of\n",
    "#    the extraction algorithm we have two arguments: `patient_ids` and `features`. The\n",
    "#    `patient_ids` should be the list of patients that are comming from the cohort\n",
    "#    builder and the `features` should be the of the tumor type that was selected in the\n",
    "#    RAVEN workspace.\n",
    "#\n",
    "# The other important metadata are:\n",
    "#\n",
    "# 1. `name`. The method name, depending on which method the user selects in the UI\n",
    "#    different arguments need to be provided. You also need to provide this `name` in\n",
    "#    the `method` when creating a vantage6 task.\n",
    "# 2. `image`. The image is the docker image that will be used to execute the function.\n",
    "#    You also need to supply this when creating a vantage6 task.\n",
    "#\n",
    "# You should be able to use this metadata to create the interface in the RAVEN UI in\n",
    "# order to create a task.\n",
    "algorithms = requests.get(\n",
    "    \"https://orchestrator.idea.lst.tfo.upm.es/store/algorithm\",\n",
    "    headers=headers\n",
    ")\n",
    "algorithms.json()"
   ]
  },
  {
   "cell_type": "markdown",
   "metadata": {},
   "source": [
    "## 8. Create analytics"
   ]
  },
  {
   "cell_type": "code",
   "execution_count": null,
   "metadata": {},
   "outputs": [],
   "source": [
    "# This process is identical to the one for computing the summary statistics, however\n",
    "# you of course need to alter then method name and the arguments."
   ]
  },
  {
   "cell_type": "code",
   "execution_count": 88,
   "metadata": {},
   "outputs": [],
   "source": [
    "# When a new cohort is created vantage6 needs to extract the data from the OMOP database\n",
    "# and store it in the session as a dataframe. This is done by executing a vantage6\n",
    "# extraction task.\n",
    "\n",
    "#\n",
    "# Static content\n",
    "#\n",
    "\n",
    "# This is the Docker image that contains the `method` to compute the crosstab\n",
    "# statistics.\n",
    "image = \"harbor2.vantage6.ai/idea4rc/analytics:latest\"\n",
    "\n",
    "# This is the vantage6 action that will be executed. The `central_compute` action is\n",
    "# an action that allows the method to create sub tasks.\n",
    "action = \"central_compute\"\n",
    "\n",
    "# The method is the vantage6 method that will be executed. The `crosstab` method is\n",
    "# used to compute the crosstab statistics.\n",
    "method = \"crosstab\"\n",
    "\n",
    "#\n",
    "# Dynamic content\n",
    "#\n",
    "\n",
    "# NOTE --- CHANGE THE NAME AND DESCRIPTION OF THE TASK ---\n",
    "# The name (and description) of the task does not need to be unique. It is used to\n",
    "# identify the task, so give it some meaningful name. For example include the cohorts\n",
    "# that are being analysed.\n",
    "name = \"Crosstab Statistics of Cohort 1\"\n",
    "description = \"Crosstab statistics of the cohort\"\n",
    "\n",
    "# Each `image` can have multiple `methods`. We need to use a different method for\n",
    "# sarcoma and head and neck as we are extracting different features.\n",
    "method = \"crosstab\"\n",
    "\n",
    "# This is the vantage6 action that will be executed. The `central_compute` action is\n",
    "# an action that allows the method to create sub tasks.\n",
    "action = \"central_compute\"\n",
    "\n",
    "# NOTE --- CHANGE THE DATABASES TO THE DATABASES OF THE COHORT ---\n",
    "databases = [\n",
    "    [\n",
    "        # In case the user selected multiple cohorts, we need to make a dict here per\n",
    "        # cohort. Each needs to contain the dataframe label that you obtained earlier.\n",
    "        {\n",
    "            \"type\": \"dataframe\",\n",
    "            \"dataframe_id\": DATAFRAME_ID\n",
    "        }\n",
    "    ]\n",
    "]\n",
    "\n",
    "# NOTE --- CHANGE THE INPUT TO THE INPUT OF THE TASK ---\n",
    "# For the crosstab statistics we need to specify the columns that we want to use for\n",
    "# the crosstab. In this case we use the `SEX` column as the result column and the\n",
    "# `N_CANCER_EPISODES` column as the group column. It is possible to select multiple\n",
    "# columns for the group column (However for privacy reasons we should not allow for\n",
    "# more than 2 columns).\n",
    "arguments = {\n",
    "    \"kwargs\": {\n",
    "        \"results_col\": \"SEX\",\n",
    "        \"group_cols\": [\"FNCLCC_GRADE\"],\n",
    "        # NOTE --- CHANGE THE ORGANIZATIONS TO USER SELECTION ---\n",
    "        # It is also possible to use a subset of organizations here. In case the user\n",
    "        # makes a selection of organizations in the RAVEN UI.\n",
    "        \"organizations_to_include\": ORGANIZATION_IDS\n",
    "    }\n",
    "}"
   ]
  },
  {
   "cell_type": "code",
   "execution_count": 89,
   "metadata": {},
   "outputs": [
    {
     "data": {
      "text/plain": [
       "{'name': 'Crosstab Statistics of Cohort 1',\n",
       " 'image': 'harbor2.vantage6.ai/idea4rc/analytics:latest',\n",
       " 'description': 'Crosstab statistics of the cohort',\n",
       " 'action': 'central_compute',\n",
       " 'method': 'crosstab',\n",
       " 'organizations': [{'id': 1,\n",
       "   'input': 'eyJrd2FyZ3MiOiB7InJlc3VsdHNfY29sIjogIlNFWCIsICJncm91cF9jb2xzIjogWyJGTkNMQ0NfR1JBREUiXSwgIm9yZ2FuaXphdGlvbnNfdG9faW5jbHVkZSI6IFsxXX19'}],\n",
       " 'databases': [[{'type': 'dataframe', 'dataframe_id': 44}]],\n",
       " 'session_id': 13,\n",
       " 'study_id': 16}"
      ]
     },
     "execution_count": 89,
     "metadata": {},
     "output_type": "execute_result"
    }
   ],
   "source": [
    "payload = {\n",
    "    \"name\": name,\n",
    "    \"image\": image,\n",
    "    \"description\": description,\n",
    "    \"action\": action,\n",
    "    \"method\": method,\n",
    "    \"organizations\": [\n",
    "        {\n",
    "            # We only send the task to one organization, as this is a central compute.\n",
    "            # The central compute will create tasks for all the organization specified\n",
    "            # in the `organizations_to_include` argument.\n",
    "            \"id\": ORGANIZATION_IDS[0],\n",
    "            \"input\": base64.b64encode(\n",
    "                json.dumps(arguments).encode(\"UTF-8\")\n",
    "            ).decode(\"UTF-8\")\n",
    "        }\n",
    "    ],\n",
    "    \"databases\": databases,\n",
    "    \"session_id\": SESSION_ID,\n",
    "    \"study_id\": STUDY_ID\n",
    "}\n",
    "payload\n",
    "\n"
   ]
  },
  {
   "cell_type": "code",
   "execution_count": 90,
   "metadata": {},
   "outputs": [
    {
     "data": {
      "text/plain": [
       "{'init_org': {'id': 1,\n",
       "  'link': '/server/organization/1',\n",
       "  'methods': ['PATCH', 'DELETE', 'GET']},\n",
       " 'job_id': 58,\n",
       " 'init_user': {'id': 7,\n",
       "  'link': '/server/user/7',\n",
       "  'methods': ['PATCH', 'DELETE', 'GET']},\n",
       " 'description': 'Crosstab statistics of the cohort',\n",
       " 'method': 'crosstab',\n",
       " 'id': 82,\n",
       " 'session': {'id': 13,\n",
       "  'link': '/server/session/13',\n",
       "  'methods': ['PATCH', 'DELETE', 'GET']},\n",
       " 'dataframe': None,\n",
       " 'status': 'awaiting',\n",
       " 'databases': [{'label': None,\n",
       "   'type': 'dataframe',\n",
       "   'dataframe_id': 44,\n",
       "   'dataframe_name': 'pedantic_chatterjee',\n",
       "   'position': 0}],\n",
       " 'parent': None,\n",
       " 'created_at': '2025-07-08T08:57:21.903117',\n",
       " 'children': '/server/task?parent_id=82',\n",
       " 'collaboration': {'id': 2,\n",
       "  'link': '/server/collaboration/2',\n",
       "  'methods': ['PATCH', 'DELETE', 'GET']},\n",
       " 'algorithm_store': None,\n",
       " 'runs': '/server/run?task_id=82',\n",
       " 'results': '/server/result?task_id=82',\n",
       " 'required_by': [],\n",
       " 'name': 'Crosstab Statistics of Cohort 1',\n",
       " 'finished_at': None,\n",
       " 'depends_on': [],\n",
       " 'study': {'id': 16,\n",
       "  'link': '/server/study/16',\n",
       "  'methods': ['PATCH', 'DELETE', 'GET']},\n",
       " 'image': 'harbor2.vantage6.ai/idea4rc/analytics:latest'}"
      ]
     },
     "execution_count": 90,
     "metadata": {},
     "output_type": "execute_result"
    }
   ],
   "source": [
    "# Create a vantage6 task to execute the crosstab analysis.\n",
    "response = requests.post(\n",
    "    f\"https://orchestrator.idea.lst.tfo.upm.es/server/task\",\n",
    "    headers=headers,\n",
    "    json=payload\n",
    ")\n",
    "TASK_ID = response.json()[\"id\"]\n",
    "response.json()\n",
    "\n",
    "# The status of the task (in this case the task that computes the crosstab statistics)\n",
    "# can be one of the following:\n",
    "#\n",
    "# - pending: The task is waiting to be executed.\n",
    "# - active: The task is being executed.\n",
    "# - completed: The task has finished successfully.\n",
    "# - crashed: The task crashed. You probably want to inspect the logs.\n",
    "#\n",
    "# You should poll the status of the task until it got one of the final states: crashed\n",
    "# or completed"
   ]
  },
  {
   "cell_type": "code",
   "execution_count": 92,
   "metadata": {},
   "outputs": [
    {
     "data": {
      "text/plain": [
       "{'data': [{'cleanup_at': None,\n",
       "   'input': 'eyJrd2FyZ3MiOiB7InJlc3VsdHNfY29sIjogIlNFWCIsICJncm91cF9jb2xzIjogWyJGTkNMQ0NfR1JBREUiXSwgIm9yZ2FuaXphdGlvbnNfdG9faW5jbHVkZSI6IFsxXX19',\n",
       "   'finished_at': '2025-07-08T08:57:43.631326',\n",
       "   'node': {'keycloak_id': '463fda17-82ac-45a5-8c14-aef4b89c9006',\n",
       "    'status': 'online',\n",
       "    'ip': None,\n",
       "    'id': 10,\n",
       "    'name': 'Testing-root-node'},\n",
       "   'task': {'id': 82, 'link': '/server/task/82', 'methods': ['DELETE', 'GET']},\n",
       "   'status': 'completed',\n",
       "   'action': 'central_compute',\n",
       "   'id': 87,\n",
       "   'organization': {'id': 1,\n",
       "    'link': '/server/organization/1',\n",
       "    'methods': ['PATCH', 'DELETE', 'GET']},\n",
       "   'ports': [],\n",
       "   'log': \"LOGS of POD run-87-wk2gh (created by job run-87) \\n\\n info > wrapper for v6-analytics\\ninfo > Reading input file /app/vantage6/task/input\\ninfo > Dispatching ...\\ninfo > Using dataframes decorator\\ninfo > Using dataframes decorator\\ninfo > Using dataframes decorator\\ninfo > Module 'v6-analytics' imported!\\ninfo > Defining input parameters\\ninfo > Creating subtask to compute partial contingency tables\\ninfo > Waiting for results\\ninfo > Waiting for results of task 83...\\ninfo > Waiting for results of task 83...\\ninfo > Waiting for results of task 83...\\ninfo > Waiting for results of task 83...\\ninfo > Waiting for results of task 83...\\ninfo > Waiting for results of task 83...\\ninfo > Waiting for results of task 83...\\ninfo > Waiting for results of task 83...\\ninfo > Waiting for results of task 83...\\ninfo > Done!\\ninfo > Results obtained!\\ninfo > Computing chi-squared statistic...\\ninfo > Writing output to /app/vantage6/task/output\\n\\x1b[0m \\n\\n\\n\",\n",
       "   'results': {'id': 87,\n",
       "    'link': '/server/result/87',\n",
       "    'methods': ['GET', 'PATCH']},\n",
       "   'started_at': '2025-07-08T08:57:24.261515',\n",
       "   'assigned_at': '2025-07-07T10:36:03.908202'}],\n",
       " 'links': {'first': '/server/run?task_id=82&page=1',\n",
       "  'self': '/server/run?task_id=82&page=1',\n",
       "  'last': '/server/run?task_id=82&page=1'}}"
      ]
     },
     "execution_count": 92,
     "metadata": {},
     "output_type": "execute_result"
    }
   ],
   "source": [
    "\n",
    "# TODO add status of the subtasks in each centers\n",
    "# The status of the task (in this case the task that computes the summary statistics)\n",
    "# can be one of the following:\n",
    "#\n",
    "# - pending: The task is waiting to be executed.\n",
    "# - active: The task is being executed.\n",
    "# - completed: The task has finished successfully.\n",
    "# - crashed: The task crashed. You probably want to inspect the logs.\n",
    "#\n",
    "# You should poll the status of the task until it got one of the final states: crashed\n",
    "# or completed\n",
    "response = requests.get(\n",
    "    f\"https://orchestrator.idea.lst.tfo.upm.es/server/run?task_id={TASK_ID}\",\n",
    "    headers=headers,\n",
    ")\n",
    "response.json()"
   ]
  },
  {
   "cell_type": "code",
   "execution_count": 93,
   "metadata": {},
   "outputs": [
    {
     "data": {
      "text/plain": [
       "{'pedantic_chatterjee': {'contingency_table': [{'FNCLCC_GRADE': 'Grade 1 tumor',\n",
       "    'MALE': '2',\n",
       "    'FEMALE': '4',\n",
       "    'Total': '6'},\n",
       "   {'FNCLCC_GRADE': 'Grade 2 tumor', 'MALE': '1', 'FEMALE': '0', 'Total': '1'},\n",
       "   {'FNCLCC_GRADE': 'Grade 3 tumor', 'MALE': '2', 'FEMALE': '1', 'Total': '3'},\n",
       "   {'FNCLCC_GRADE': 'Total', 'MALE': '5', 'FEMALE': '5', 'Total': '10'}],\n",
       "  'chi2': {'chi2': '2.0', 'P-value': '0.36787944117144245'}}}"
      ]
     },
     "execution_count": 93,
     "metadata": {},
     "output_type": "execute_result"
    }
   ],
   "source": [
    "# Once the task is completed, we can retrieve the result.\n",
    "response = requests.get(\n",
    "    f\"https://orchestrator.idea.lst.tfo.upm.es/server/result?task_id={TASK_ID}\",\n",
    "    headers=headers,\n",
    ")\n",
    "response.json()\n",
    "\n",
    "# The result is a base64 encoded string. We need to decode it to get the actual result.\n",
    "# Since this is a central task (see that we've only sent the task to one organization in\n",
    "# the `organizations` argument in the original request), we can just take the first\n",
    "# result.\n",
    "json.loads(base64.b64decode(response.json()[\"data\"][0][\"result\"]))"
   ]
  }
 ],
 "metadata": {
  "kernelspec": {
   "display_name": "idea4rc-client",
   "language": "python",
   "name": "python3"
  },
  "language_info": {
   "codemirror_mode": {
    "name": "ipython",
    "version": 3
   },
   "file_extension": ".py",
   "mimetype": "text/x-python",
   "name": "python",
   "nbconvert_exporter": "python",
   "pygments_lexer": "ipython3",
   "version": "3.10.18"
  }
 },
 "nbformat": 4,
 "nbformat_minor": 2
}
